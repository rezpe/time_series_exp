{
 "cells": [
  {
   "cell_type": "code",
   "execution_count": 1,
   "id": "aaffa835",
   "metadata": {},
   "outputs": [
    {
     "name": "stdout",
     "output_type": "stream",
     "text": [
      "%pylab is deprecated, use %matplotlib inline and import the required libraries.\n",
      "Populating the interactive namespace from numpy and matplotlib\n"
     ]
    }
   ],
   "source": [
    "# Check the data\n",
    "import pandas as pd\n",
    "%pylab inline"
   ]
  },
  {
   "cell_type": "code",
   "execution_count": 2,
   "id": "a5d41086",
   "metadata": {},
   "outputs": [],
   "source": [
    "station=\"28079004\"\n",
    "df = pd.read_csv(f\"/home/sebas/data/air_qual_aemet/{station}.csv\",sep=\";\")\n",
    "# Limiting Date\n",
    "df = df[df[\"DATE\"]<\"2020-01-01\"]\n",
    "\n",
    "tdf = df[[\"DATE\",\"SPA.NO2\"]].copy()\n",
    "tdf.columns = [\"DATE\",\"NO2\"]\n",
    "tdf[\"NO2\"]=np.log1p(tdf[\"NO2\"])\n",
    "\n",
    "from statsmodels.tsa.seasonal import seasonal_decompose\n",
    "stl = seasonal_decompose(tdf[\"NO2\"], model=\"additive\",period=24)\n",
    "tdf[\"NO2\"]=tdf[\"NO2\"]-stl.seasonal\n",
    "tdf[\"trend\"]=stl.trend\n",
    "\n",
    "horizon=13\n",
    "\n",
    "tdf[\"trend_norm\"]=tdf[\"trend\"].shift(horizon)\n",
    "\n",
    "# We remove the trend and keep past values\n",
    "for h in reversed(np.arange(0,3*24)):\n",
    "    if h>horizon:\n",
    "        tdf[f\"NO2 - {h}\"]=(tdf[\"NO2\"].shift(h)-tdf[\"trend_norm\"]).copy()\n",
    "\n",
    "tdf=tdf.dropna()\n",
    "\n",
    "cols = tdf.columns[tdf.columns.str.contains(\"NO2 -\")]\n",
    "X = tdf[cols].copy()\n",
    "y = tdf[[\"NO2\"]].copy()"
   ]
  },
  {
   "cell_type": "code",
   "execution_count": 3,
   "id": "5c4a556b",
   "metadata": {},
   "outputs": [
    {
     "data": {
      "text/html": [
       "<div>\n",
       "<style scoped>\n",
       "    .dataframe tbody tr th:only-of-type {\n",
       "        vertical-align: middle;\n",
       "    }\n",
       "\n",
       "    .dataframe tbody tr th {\n",
       "        vertical-align: top;\n",
       "    }\n",
       "\n",
       "    .dataframe thead th {\n",
       "        text-align: right;\n",
       "    }\n",
       "</style>\n",
       "<table border=\"1\" class=\"dataframe\">\n",
       "  <thead>\n",
       "    <tr style=\"text-align: right;\">\n",
       "      <th></th>\n",
       "      <th>NO2 - 71</th>\n",
       "      <th>NO2 - 70</th>\n",
       "      <th>NO2 - 69</th>\n",
       "      <th>NO2 - 68</th>\n",
       "      <th>NO2 - 67</th>\n",
       "      <th>NO2 - 66</th>\n",
       "      <th>NO2 - 65</th>\n",
       "      <th>NO2 - 64</th>\n",
       "      <th>NO2 - 63</th>\n",
       "      <th>NO2 - 62</th>\n",
       "      <th>...</th>\n",
       "      <th>NO2 - 23</th>\n",
       "      <th>NO2 - 22</th>\n",
       "      <th>NO2 - 21</th>\n",
       "      <th>NO2 - 20</th>\n",
       "      <th>NO2 - 19</th>\n",
       "      <th>NO2 - 18</th>\n",
       "      <th>NO2 - 17</th>\n",
       "      <th>NO2 - 16</th>\n",
       "      <th>NO2 - 15</th>\n",
       "      <th>NO2 - 14</th>\n",
       "    </tr>\n",
       "  </thead>\n",
       "  <tbody>\n",
       "    <tr>\n",
       "      <th>71</th>\n",
       "      <td>0.313712</td>\n",
       "      <td>0.391156</td>\n",
       "      <td>0.230022</td>\n",
       "      <td>0.264430</td>\n",
       "      <td>0.033721</td>\n",
       "      <td>0.399788</td>\n",
       "      <td>0.200565</td>\n",
       "      <td>0.305774</td>\n",
       "      <td>0.669540</td>\n",
       "      <td>0.330411</td>\n",
       "      <td>...</td>\n",
       "      <td>1.136071</td>\n",
       "      <td>0.661447</td>\n",
       "      <td>0.718869</td>\n",
       "      <td>0.454474</td>\n",
       "      <td>0.428375</td>\n",
       "      <td>0.618041</td>\n",
       "      <td>0.814931</td>\n",
       "      <td>0.848639</td>\n",
       "      <td>0.785800</td>\n",
       "      <td>-0.059054</td>\n",
       "    </tr>\n",
       "    <tr>\n",
       "      <th>72</th>\n",
       "      <td>0.447698</td>\n",
       "      <td>0.286564</td>\n",
       "      <td>0.320972</td>\n",
       "      <td>0.090263</td>\n",
       "      <td>0.456330</td>\n",
       "      <td>0.257107</td>\n",
       "      <td>0.362316</td>\n",
       "      <td>0.726082</td>\n",
       "      <td>0.386953</td>\n",
       "      <td>-0.040637</td>\n",
       "      <td>...</td>\n",
       "      <td>0.717989</td>\n",
       "      <td>0.775411</td>\n",
       "      <td>0.511016</td>\n",
       "      <td>0.484917</td>\n",
       "      <td>0.674583</td>\n",
       "      <td>0.871473</td>\n",
       "      <td>0.905181</td>\n",
       "      <td>0.842342</td>\n",
       "      <td>-0.002512</td>\n",
       "      <td>-0.342918</td>\n",
       "    </tr>\n",
       "    <tr>\n",
       "      <th>73</th>\n",
       "      <td>0.350767</td>\n",
       "      <td>0.385175</td>\n",
       "      <td>0.154465</td>\n",
       "      <td>0.520533</td>\n",
       "      <td>0.321310</td>\n",
       "      <td>0.426519</td>\n",
       "      <td>0.790285</td>\n",
       "      <td>0.451156</td>\n",
       "      <td>0.023566</td>\n",
       "      <td>0.247453</td>\n",
       "      <td>...</td>\n",
       "      <td>0.839614</td>\n",
       "      <td>0.575219</td>\n",
       "      <td>0.549120</td>\n",
       "      <td>0.738786</td>\n",
       "      <td>0.935676</td>\n",
       "      <td>0.969384</td>\n",
       "      <td>0.906545</td>\n",
       "      <td>0.061691</td>\n",
       "      <td>-0.278715</td>\n",
       "      <td>-0.531217</td>\n",
       "    </tr>\n",
       "    <tr>\n",
       "      <th>74</th>\n",
       "      <td>0.445592</td>\n",
       "      <td>0.214882</td>\n",
       "      <td>0.580949</td>\n",
       "      <td>0.381726</td>\n",
       "      <td>0.486935</td>\n",
       "      <td>0.850701</td>\n",
       "      <td>0.511572</td>\n",
       "      <td>0.083983</td>\n",
       "      <td>0.307869</td>\n",
       "      <td>-0.280719</td>\n",
       "      <td>...</td>\n",
       "      <td>0.635635</td>\n",
       "      <td>0.609536</td>\n",
       "      <td>0.799203</td>\n",
       "      <td>0.996093</td>\n",
       "      <td>1.029800</td>\n",
       "      <td>0.966961</td>\n",
       "      <td>0.122108</td>\n",
       "      <td>-0.218298</td>\n",
       "      <td>-0.470800</td>\n",
       "      <td>-0.495830</td>\n",
       "    </tr>\n",
       "    <tr>\n",
       "      <th>75</th>\n",
       "      <td>0.264408</td>\n",
       "      <td>0.630475</td>\n",
       "      <td>0.431252</td>\n",
       "      <td>0.536461</td>\n",
       "      <td>0.900227</td>\n",
       "      <td>0.561098</td>\n",
       "      <td>0.133508</td>\n",
       "      <td>0.357395</td>\n",
       "      <td>-0.231193</td>\n",
       "      <td>-0.413073</td>\n",
       "      <td>...</td>\n",
       "      <td>0.659062</td>\n",
       "      <td>0.848728</td>\n",
       "      <td>1.045618</td>\n",
       "      <td>1.079326</td>\n",
       "      <td>1.016487</td>\n",
       "      <td>0.171633</td>\n",
       "      <td>-0.168773</td>\n",
       "      <td>-0.421275</td>\n",
       "      <td>-0.446305</td>\n",
       "      <td>-0.368621</td>\n",
       "    </tr>\n",
       "  </tbody>\n",
       "</table>\n",
       "<p>5 rows × 58 columns</p>\n",
       "</div>"
      ],
      "text/plain": [
       "    NO2 - 71  NO2 - 70  NO2 - 69  NO2 - 68  NO2 - 67  NO2 - 66  NO2 - 65  \\\n",
       "71  0.313712  0.391156  0.230022  0.264430  0.033721  0.399788  0.200565   \n",
       "72  0.447698  0.286564  0.320972  0.090263  0.456330  0.257107  0.362316   \n",
       "73  0.350767  0.385175  0.154465  0.520533  0.321310  0.426519  0.790285   \n",
       "74  0.445592  0.214882  0.580949  0.381726  0.486935  0.850701  0.511572   \n",
       "75  0.264408  0.630475  0.431252  0.536461  0.900227  0.561098  0.133508   \n",
       "\n",
       "    NO2 - 64  NO2 - 63  NO2 - 62  ...  NO2 - 23  NO2 - 22  NO2 - 21  NO2 - 20  \\\n",
       "71  0.305774  0.669540  0.330411  ...  1.136071  0.661447  0.718869  0.454474   \n",
       "72  0.726082  0.386953 -0.040637  ...  0.717989  0.775411  0.511016  0.484917   \n",
       "73  0.451156  0.023566  0.247453  ...  0.839614  0.575219  0.549120  0.738786   \n",
       "74  0.083983  0.307869 -0.280719  ...  0.635635  0.609536  0.799203  0.996093   \n",
       "75  0.357395 -0.231193 -0.413073  ...  0.659062  0.848728  1.045618  1.079326   \n",
       "\n",
       "    NO2 - 19  NO2 - 18  NO2 - 17  NO2 - 16  NO2 - 15  NO2 - 14  \n",
       "71  0.428375  0.618041  0.814931  0.848639  0.785800 -0.059054  \n",
       "72  0.674583  0.871473  0.905181  0.842342 -0.002512 -0.342918  \n",
       "73  0.935676  0.969384  0.906545  0.061691 -0.278715 -0.531217  \n",
       "74  1.029800  0.966961  0.122108 -0.218298 -0.470800 -0.495830  \n",
       "75  1.016487  0.171633 -0.168773 -0.421275 -0.446305 -0.368621  \n",
       "\n",
       "[5 rows x 58 columns]"
      ]
     },
     "execution_count": 3,
     "metadata": {},
     "output_type": "execute_result"
    }
   ],
   "source": [
    "X.head()"
   ]
  },
  {
   "cell_type": "code",
   "execution_count": null,
   "id": "b7b6290c",
   "metadata": {},
   "outputs": [],
   "source": []
  },
  {
   "cell_type": "code",
   "execution_count": 352,
   "id": "1ab1463e",
   "metadata": {},
   "outputs": [
    {
     "data": {
      "text/plain": [
       "[<matplotlib.lines.Line2D at 0x7f966d5f2740>]"
      ]
     },
     "execution_count": 352,
     "metadata": {},
     "output_type": "execute_result"
    },
    {
     "data": {
      "image/png": "[encoded data removed]",
      "text/plain": [
       "<Figure size 432x288 with 1 Axes>"
      ]
     },
     "metadata": {
      "needs_background": "light"
     },
     "output_type": "display_data"
    }
   ],
   "source": [
    "plt.plot(X.iloc[0].T)"
   ]
  },
  {
   "cell_type": "code",
   "execution_count": 353,
   "id": "84c48fe4",
   "metadata": {},
   "outputs": [
    {
     "data": {
      "text/plain": [
       "(56907, 58)"
      ]
     },
     "execution_count": 353,
     "metadata": {},
     "output_type": "execute_result"
    }
   ],
   "source": [
    "X.shape"
   ]
  },
  {
   "cell_type": "code",
   "execution_count": 394,
   "id": "2d7809c8",
   "metadata": {},
   "outputs": [],
   "source": [
    "TRAIN_SPLIT = tdf[tdf[\"DATE\"]>\"2018\"].index.values[0]\n",
    "\n",
    "X_train=X[X.index<=TRAIN_SPLIT].copy()\n",
    "X_test=X[X.index>TRAIN_SPLIT].copy()\n",
    "y_train = y[X.index<=TRAIN_SPLIT].copy()\n",
    "y_test = y[X.index>TRAIN_SPLIT].copy()"
   ]
  },
  {
   "cell_type": "code",
   "execution_count": 395,
   "id": "5442b3df",
   "metadata": {},
   "outputs": [],
   "source": [
    "from torch.utils.data import DataLoader, TensorDataset\n",
    "\n",
    "X_train = torch.FloatTensor(X_train.values).to(device)\n",
    "X_test = torch.FloatTensor(X_test.values).to(device)\n",
    "y_train = torch.FloatTensor(y_train.values).to(device)\n",
    "y_test= torch.FloatTensor(y_test.values).to(device)"
   ]
  },
  {
   "cell_type": "code",
   "execution_count": 356,
   "id": "e4d3c2ab",
   "metadata": {},
   "outputs": [],
   "source": [
    "# batch size = 56811\n",
    "# seq length = 154\n",
    "# N Features = 1"
   ]
  },
  {
   "cell_type": "code",
   "execution_count": 357,
   "id": "423efb20",
   "metadata": {},
   "outputs": [
    {
     "data": {
      "text/plain": [
       "device(type='cuda')"
      ]
     },
     "execution_count": 357,
     "metadata": {},
     "output_type": "execute_result"
    }
   ],
   "source": [
    "import torch \n",
    "import torch.nn as nn \n",
    "import torch.nn.functional as F \n",
    "import torch.optim as optim \n",
    "\n",
    "device = torch.device(\"cuda\" if torch.cuda.is_available() else \"cpu\")\n",
    "device"
   ]
  },
  {
   "cell_type": "code",
   "execution_count": 396,
   "id": "98ea0ac3",
   "metadata": {},
   "outputs": [
    {
     "data": {
      "text/plain": [
       "Net(\n",
       "  (lstm): LSTM(1, 64, batch_first=True)\n",
       "  (fc): Linear(in_features=64, out_features=1, bias=True)\n",
       ")"
      ]
     },
     "execution_count": 396,
     "metadata": {},
     "output_type": "execute_result"
    }
   ],
   "source": [
    "from torch.autograd import Variable\n",
    "\n",
    "class Net(nn.Module):\n",
    "  def __init__(self):\n",
    "    self.input_size = 1\n",
    "    self.output_size=1\n",
    "    self.hidden_dim=64\n",
    "    self.n_layers=1\n",
    "\n",
    "    super(Net,self).__init__() \n",
    "    self.lstm = nn.LSTM(self.input_size, self.hidden_dim, self.n_layers, batch_first=True)\n",
    "    self.fc = nn.Linear(self.hidden_dim, self.output_size)\n",
    "\n",
    "\n",
    "  def forward(self,x):\n",
    "    h_0 = Variable(torch.zeros(self.n_layers, x.size(0), self.hidden_dim)).to(device)\n",
    "    c_0 = Variable(torch.zeros(self.n_layers, x.size(0), self.hidden_dim)).to(device)\n",
    "    \n",
    "    out, (hidden,_) = self.lstm(x,(h_0, c_0))\n",
    "    \n",
    "    h_out = hidden[-1].view(-1, self.hidden_dim)\n",
    "        \n",
    "    # get final output \n",
    "    output = self.fc(h_out)\n",
    "    \n",
    "    return output\n",
    "\n",
    "net = Net() \n",
    "net.to(device)"
   ]
  },
  {
   "cell_type": "code",
   "execution_count": 397,
   "id": "8b4d0d21",
   "metadata": {},
   "outputs": [
    {
     "data": {
      "text/plain": [
       "torch.Size([39400, 58])"
      ]
     },
     "execution_count": 397,
     "metadata": {},
     "output_type": "execute_result"
    }
   ],
   "source": [
    "X_train.shape"
   ]
  },
  {
   "cell_type": "code",
   "execution_count": 398,
   "id": "250c356f",
   "metadata": {},
   "outputs": [
    {
     "data": {
      "text/plain": [
       "torch.Size([39400, 58])"
      ]
     },
     "execution_count": 398,
     "metadata": {},
     "output_type": "execute_result"
    }
   ],
   "source": [
    "X_train.shape\n",
    "# Must be:[batch_size, seq_len, input_size]"
   ]
  },
  {
   "cell_type": "code",
   "execution_count": 399,
   "id": "c431bf90",
   "metadata": {},
   "outputs": [],
   "source": [
    "#128 154 64\n",
    "\n",
    "#1  128 64"
   ]
  },
  {
   "cell_type": "code",
   "execution_count": 400,
   "id": "e113d4fa",
   "metadata": {},
   "outputs": [
    {
     "data": {
      "text/plain": [
       "(128, 1)"
      ]
     },
     "execution_count": 400,
     "metadata": {},
     "output_type": "execute_result"
    }
   ],
   "source": [
    "net(X_train[:128,:].reshape([128, 58,1])).cpu().detach().numpy().shape"
   ]
  },
  {
   "cell_type": "code",
   "execution_count": 401,
   "id": "825aaee3",
   "metadata": {},
   "outputs": [],
   "source": [
    "from sklearn.metrics import mean_squared_error"
   ]
  },
  {
   "cell_type": "code",
   "execution_count": 402,
   "id": "2bbb7f16",
   "metadata": {},
   "outputs": [],
   "source": [
    "# https://github.com/harryliew/COCOB-optimizer/blob/master/cocob_bp.py\n",
    "\n",
    "import torch.optim as optim\n",
    "import torch\n",
    "\n",
    "###########################################################################\n",
    "# Training Deep Networks without Learning Rates Through Coin Betting\n",
    "# Paper: https://arxiv.org/abs/1705.07795\n",
    "#\n",
    "# NOTE: This optimizer is hardcoded to run on GPU, needs to be parametrized\n",
    "###########################################################################\n",
    "\n",
    "class COCOBBackprop(optim.Optimizer):\n",
    "    \n",
    "    def __init__(self, params, alpha=100, epsilon=1e-8):\n",
    "        \n",
    "        self._alpha = alpha\n",
    "        self.epsilon = epsilon\n",
    "        defaults = dict(alpha=alpha, epsilon=epsilon)\n",
    "        super(COCOBBackprop, self).__init__(params, defaults)\n",
    "        \n",
    "    def step(self, closure=None):\n",
    "        \n",
    "        loss = None\n",
    "        \n",
    "        if closure is not None:\n",
    "            loss = closure()\n",
    "            \n",
    "        for group in self.param_groups:\n",
    "            for p in group['params']:\n",
    "                if p.grad is None:\n",
    "                    continue\n",
    "        \n",
    "                grad = p.grad.data\n",
    "                state = self.state[p]\n",
    "                \n",
    "                if len(state) == 0:\n",
    "                    state['gradients_sum'] = torch.zeros_like(p.data).cuda().float()\n",
    "                    state['grad_norm_sum'] = torch.zeros_like(p.data).cuda().float()\n",
    "                    state['L'] = self.epsilon * torch.ones_like(p.data).cuda().float()\n",
    "                    state['tilde_w'] = torch.zeros_like(p.data).cuda().float()\n",
    "                    state['reward'] = torch.zeros_like(p.data).cuda().float()\n",
    "                    \n",
    "                gradients_sum = state['gradients_sum']\n",
    "                grad_norm_sum = state['grad_norm_sum']\n",
    "                tilde_w = state['tilde_w']\n",
    "                L = state['L']\n",
    "                reward = state['reward']\n",
    "                \n",
    "                zero = torch.cuda.FloatTensor([0.])\n",
    "                \n",
    "                L_update = torch.max(L, torch.abs(grad))\n",
    "                gradients_sum_update = gradients_sum + grad\n",
    "                grad_norm_sum_update = grad_norm_sum + torch.abs(grad)\n",
    "                reward_update = torch.max(reward - grad * tilde_w, zero)\n",
    "                new_w = -gradients_sum_update/(L_update * (torch.max(grad_norm_sum_update + L_update, self._alpha * L_update)))*(reward_update + L_update)\n",
    "                p.data = p.data - tilde_w + new_w\n",
    "                tilde_w_update = new_w\n",
    "                \n",
    "                state['gradients_sum'] = gradients_sum_update\n",
    "                state['grad_norm_sum'] = grad_norm_sum_update\n",
    "                state['L'] = L_update\n",
    "                state['tilde_w'] = tilde_w_update\n",
    "                state['reward'] = reward_update\n",
    "\n",
    "        return loss\n"
   ]
  },
  {
   "cell_type": "code",
   "execution_count": 403,
   "id": "b16c41a9",
   "metadata": {
    "scrolled": false
   },
   "outputs": [
    {
     "name": "stderr",
     "output_type": "stream",
     "text": [
      "/home/sebas/miniconda3/envs/phd/lib/python3.10/site-packages/torch/nn/modules/rnn.py:761: UserWarning: RNN module weights are not part of single contiguous chunk of memory. This means they need to be compacted at every call, possibly greatly increasing memory usage. To compact weights again call flatten_parameters(). (Triggered internally at  ../aten/src/ATen/native/cudnn/RNN.cpp:926.)\n",
      "  result = _VF.lstm(input, hx, self._flat_weights, self.bias, self.num_layers,\n"
     ]
    },
    {
     "name": "stdout",
     "output_type": "stream",
     "text": [
      "Epoch: 0 Loss: 11.220789909362793 Val Loss: 0.6711815426336336\n"
     ]
    },
    {
     "name": "stderr",
     "output_type": "stream",
     "text": [
      "/home/sebas/miniconda3/envs/phd/lib/python3.10/site-packages/torch/nn/modules/rnn.py:761: UserWarning: RNN module weights are not part of single contiguous chunk of memory. This means they need to be compacted at every call, possibly greatly increasing memory usage. To compact weights again call flatten_parameters(). (Triggered internally at  ../aten/src/ATen/native/cudnn/RNN.cpp:926.)\n",
      "  result = _VF.lstm(input, hx, self._flat_weights, self.bias, self.num_layers,\n"
     ]
    },
    {
     "name": "stdout",
     "output_type": "stream",
     "text": [
      "Epoch: 1 Loss: 8.438915252685547 Val Loss: 0.6758005737435986\n"
     ]
    },
    {
     "name": "stderr",
     "output_type": "stream",
     "text": [
      "/home/sebas/miniconda3/envs/phd/lib/python3.10/site-packages/torch/nn/modules/rnn.py:761: UserWarning: RNN module weights are not part of single contiguous chunk of memory. This means they need to be compacted at every call, possibly greatly increasing memory usage. To compact weights again call flatten_parameters(). (Triggered internally at  ../aten/src/ATen/native/cudnn/RNN.cpp:926.)\n",
      "  result = _VF.lstm(input, hx, self._flat_weights, self.bias, self.num_layers,\n"
     ]
    },
    {
     "name": "stdout",
     "output_type": "stream",
     "text": [
      "Epoch: 2 Loss: 8.319202423095703 Val Loss: 0.6912014042088487\n"
     ]
    },
    {
     "name": "stderr",
     "output_type": "stream",
     "text": [
      "/home/sebas/miniconda3/envs/phd/lib/python3.10/site-packages/torch/nn/modules/rnn.py:761: UserWarning: RNN module weights are not part of single contiguous chunk of memory. This means they need to be compacted at every call, possibly greatly increasing memory usage. To compact weights again call flatten_parameters(). (Triggered internally at  ../aten/src/ATen/native/cudnn/RNN.cpp:926.)\n",
      "  result = _VF.lstm(input, hx, self._flat_weights, self.bias, self.num_layers,\n"
     ]
    },
    {
     "name": "stdout",
     "output_type": "stream",
     "text": [
      "Epoch: 3 Loss: 8.247286796569824 Val Loss: 0.7062880736040309\n"
     ]
    },
    {
     "name": "stderr",
     "output_type": "stream",
     "text": [
      "/home/sebas/miniconda3/envs/phd/lib/python3.10/site-packages/torch/nn/modules/rnn.py:761: UserWarning: RNN module weights are not part of single contiguous chunk of memory. This means they need to be compacted at every call, possibly greatly increasing memory usage. To compact weights again call flatten_parameters(). (Triggered internally at  ../aten/src/ATen/native/cudnn/RNN.cpp:926.)\n",
      "  result = _VF.lstm(input, hx, self._flat_weights, self.bias, self.num_layers,\n"
     ]
    },
    {
     "name": "stdout",
     "output_type": "stream",
     "text": [
      "Epoch: 4 Loss: 8.219721794128418 Val Loss: 0.6883466963315177\n"
     ]
    },
    {
     "name": "stderr",
     "output_type": "stream",
     "text": [
      "/home/sebas/miniconda3/envs/phd/lib/python3.10/site-packages/torch/nn/modules/rnn.py:761: UserWarning: RNN module weights are not part of single contiguous chunk of memory. This means they need to be compacted at every call, possibly greatly increasing memory usage. To compact weights again call flatten_parameters(). (Triggered internally at  ../aten/src/ATen/native/cudnn/RNN.cpp:926.)\n",
      "  result = _VF.lstm(input, hx, self._flat_weights, self.bias, self.num_layers,\n"
     ]
    },
    {
     "name": "stdout",
     "output_type": "stream",
     "text": [
      "Epoch: 5 Loss: 8.186166763305664 Val Loss: 0.6845761585193227\n"
     ]
    }
   ],
   "source": [
    "criterion = nn.MSELoss(reduction='sum')\n",
    "optimizer = COCOBBackprop(net.parameters())\n",
    "batch_size = 32\n",
    "epochs = 6\n",
    "\n",
    "train = TensorDataset(X_train, y_train)\n",
    "train_loader = DataLoader(train, batch_size=batch_size, shuffle=True)\n",
    "\n",
    "for j in range(epochs):\n",
    "    m_loss = []\n",
    "    for i,batch in enumerate(train_loader):\n",
    "        train_features, train_labels = batch\n",
    "        y_hat = net.forward(train_features.reshape([len(train_features), 58,1])).to(device)\n",
    "        loss = criterion(y_hat, train_labels)\n",
    "        m_loss.append(loss.detach().cpu().numpy())\n",
    "\n",
    "        optimizer.zero_grad()\n",
    "        loss.backward()\n",
    "        optimizer.step()\n",
    "\n",
    "    test = TensorDataset(X_test, y_test)\n",
    "    test_loader = DataLoader(test, batch_size=batch_size, shuffle=True)\n",
    "    predictions=np.array([])\n",
    "    for i,batch in enumerate(test_loader):\n",
    "        test_b = batch[0]\n",
    "        predictions = np.concatenate([predictions,net(test_b.reshape([len(test_b), 58,1])).cpu().reshape(-1).detach().numpy()])\n",
    "    #loss_arr.append(np.mean(m_loss))\n",
    "    #val_loss_arr.append(np.sqrt(mean_squared_error(predictions,y_test.cpu())))\n",
    "    print(f'Epoch: {j} Loss: {np.mean(m_loss)} Val Loss: {np.sqrt(mean_squared_error(predictions,y_test.cpu()))}')"
   ]
  },
  {
   "cell_type": "code",
   "execution_count": 385,
   "id": "2dcd5243",
   "metadata": {},
   "outputs": [
    {
     "name": "stdout",
     "output_type": "stream",
     "text": [
      "Epoch: 0 Loss: 196.97494506835938 Val Loss: 0.5591471195220947\n",
      "Epoch: 1 Loss: 67.267822265625 Val Loss: 0.546899676322937\n",
      "Epoch: 2 Loss: 63.90300369262695 Val Loss: 0.5468499660491943\n",
      "Epoch: 3 Loss: 61.83918380737305 Val Loss: 0.5359558463096619\n",
      "Epoch: 4 Loss: 60.33985137939453 Val Loss: 0.5396912097930908\n",
      "Epoch: 5 Loss: 59.242061614990234 Val Loss: 0.5333669781684875\n"
     ]
    }
   ],
   "source": [
    "import torch \n",
    "import torch.nn as nn \n",
    "import torch.nn.functional as F \n",
    "import torch.optim as optim \n",
    "\n",
    "fulls = len(X_train.cpu()[0])\n",
    "mids = int(len(X_train.cpu()[0])/2)\n",
    "\n",
    "class Net(nn.Module):\n",
    "  def __init__(self):\n",
    "    super(Net,self).__init__() \n",
    "    self.whole = nn.Sequential(\n",
    "        nn.Linear(fulls,2*fulls),\n",
    "        nn.ReLU(),\n",
    "        nn.LayerNorm(2*fulls),\n",
    "        nn.Linear(2*fulls,mids),\n",
    "        nn.ReLU(),\n",
    "        nn.LayerNorm(mids),\n",
    "        nn.Linear(mids,1)\n",
    "        )\n",
    "\n",
    "  def forward(self,x):\n",
    "    x = self.whole(x)\n",
    "    return x\n",
    "\n",
    "net = Net() \n",
    "net.to(device)\n",
    "criterion = nn.MSELoss(reduction='sum')\n",
    "optimizer = optim.Adam(net.parameters(),lr=0.001,weight_decay=0.00001)\n",
    "#optimizer = COCOBBackprop(net.parameters())\n",
    "\n",
    "loss_arr = []\n",
    "val_loss_arr = []\n",
    "epochs = 6\n",
    "\n",
    "train = TensorDataset(X_train, y_train)\n",
    "train_loader = DataLoader(train, batch_size=256, shuffle=True)\n",
    "\n",
    "for j in range(epochs):\n",
    "  m_loss = []\n",
    "  for i,batch in enumerate(train_loader):\n",
    "    train_features, train_labels = batch\n",
    "    y_hat = net.forward(train_features).to(device)\n",
    "    loss = criterion(y_hat, train_labels)\n",
    "    m_loss.append(loss.detach().cpu().numpy())\n",
    " \n",
    "    optimizer.zero_grad()\n",
    "    loss.backward()\n",
    "    optimizer.step()\n",
    "\n",
    "  predictions = net(X_test).cpu().reshape(-1).detach().numpy()\n",
    "  loss_arr.append(np.mean(m_loss))\n",
    "  val_loss_arr.append(np.sqrt(mean_squared_error(predictions,y_test.cpu())))\n",
    "  print(f'Epoch: {j} Loss: {np.mean(m_loss)} Val Loss: {np.sqrt(mean_squared_error(predictions,y_test.cpu()))}')"
   ]
  },
  {
   "cell_type": "code",
   "execution_count": 386,
   "id": "0fb43fb1",
   "metadata": {},
   "outputs": [
    {
     "name": "stderr",
     "output_type": "stream",
     "text": [
      "/home/sebas/miniconda3/envs/phd/lib/python3.10/site-packages/sklearn/utils/validation.py:1111: DataConversionWarning: A column-vector y was passed when a 1d array was expected. Please change the shape of y to (n_samples, ), for example using ravel().\n",
      "  y = column_or_1d(y, warn=True)\n"
     ]
    },
    {
     "data": {
      "text/plain": [
       "0.524876815724352"
      ]
     },
     "execution_count": 386,
     "metadata": {},
     "output_type": "execute_result"
    }
   ],
   "source": [
    "import lightgbm as lgb\n",
    "\n",
    "lgbmodel = lgb.LGBMRegressor(n_estimators=1600,\n",
    "                                    random_state=2020,\n",
    "                                  max_depth=6)\n",
    "\n",
    "from sklearn.metrics import mean_squared_error\n",
    "lgbmodel.fit(X_train.cpu(),y_train.cpu())\n",
    "predictions = lgbmodel.predict(X_test.cpu())\n",
    "np.sqrt(mean_squared_error(predictions,y_test.cpu()))"
   ]
  },
  {
   "cell_type": "code",
   "execution_count": 392,
   "id": "86efad16",
   "metadata": {},
   "outputs": [
    {
     "name": "stdout",
     "output_type": "stream",
     "text": [
      "Epoch: 0 Loss: 42.74711990356445 Val Loss: 0.5314860939979553\n",
      "Epoch: 1 Loss: 31.456073760986328 Val Loss: 0.5324621796607971\n",
      "Epoch: 2 Loss: 30.68372344970703 Val Loss: 0.5161141753196716\n",
      "Epoch: 3 Loss: 30.126129150390625 Val Loss: 0.529841423034668\n",
      "Epoch: 4 Loss: 29.706462860107422 Val Loss: 0.5315541625022888\n",
      "Epoch: 5 Loss: 29.397403717041016 Val Loss: 0.5171089172363281\n",
      "Epoch: 6 Loss: 29.298276901245117 Val Loss: 0.5103262662887573\n",
      "Epoch: 7 Loss: 29.208293914794922 Val Loss: 0.5163974761962891\n",
      "Epoch: 8 Loss: 28.884695053100586 Val Loss: 0.5162995457649231\n",
      "Epoch: 9 Loss: 28.63861846923828 Val Loss: 0.5253218412399292\n"
     ]
    }
   ],
   "source": [
    "import torch \n",
    "import torch.nn as nn \n",
    "import torch.nn.functional as F \n",
    "import torch.optim as optim \n",
    "\n",
    "n_channels = 64\n",
    "k_size = 3\n",
    "n_dil = 2\n",
    "\n",
    "class Net(nn.Module):\n",
    "  def __init__(self):\n",
    "    super(Net,self).__init__() \n",
    "    self.features = nn.Sequential(\n",
    "        nn.Conv1d(in_channels=1, out_channels=n_channels, kernel_size=k_size, padding=1),\n",
    "        nn.MaxPool1d(2),\n",
    "        nn.ReLU(),\n",
    "    )\n",
    "    \n",
    "    self.regressor = nn.Sequential(\n",
    "        nn.LayerNorm(n_channels*29),\n",
    "        nn.Linear(n_channels*29,200),\n",
    "        nn.ReLU(),\n",
    "        nn.LayerNorm(200),\n",
    "        nn.Linear(200,1)\n",
    "    )\n",
    "\n",
    "  def forward(self,x):\n",
    "    x = self.features(x)\n",
    "    #print(x.shape)\n",
    "    x = x.view(-1,n_channels*x.shape[2])\n",
    "    return self.regressor(x)\n",
    "\n",
    "net = Net() \n",
    "net.to(device)\n",
    "criterion = nn.MSELoss(reduction='sum')\n",
    "optimizer = COCOBBackprop(net.parameters())\n",
    "\n",
    "loss_arr = []\n",
    "val_loss_arr = []\n",
    "epochs = 10\n",
    "\n",
    "X_train_gf = X_train.reshape(len(X_train),1,len(X_train[0]))\n",
    "train = TensorDataset(X_train_gf, y_train)\n",
    "train_loader = DataLoader(train, batch_size=128, shuffle=True)\n",
    "\n",
    "for j in range(epochs):\n",
    "    m_loss = []\n",
    "    for i,batch in enumerate(train_loader):\n",
    "      train_features, train_labels = batch\n",
    "      y_hat = net.forward(train_features)\n",
    "      loss = criterion(y_hat, train_labels)\n",
    "      m_loss.append(loss.cpu().detach().numpy())\n",
    "\n",
    "      optimizer.zero_grad()\n",
    "      loss.backward()\n",
    "      optimizer.step()\n",
    "    loss_arr.append(np.mean(m_loss))\n",
    "\n",
    "    X_test_gf = X_test.reshape(len(X_test),1,len(X_test[0]))\n",
    "    predictions = net(X_test_gf).cpu().reshape(-1).detach().numpy()\n",
    "    val_loss_arr.append(np.sqrt(mean_squared_error(predictions,y_test.cpu())))\n",
    "\n",
    "    print(f'Epoch: {j} Loss: {np.mean(m_loss)} Val Loss: {np.sqrt(mean_squared_error(predictions,y_test.cpu()))}')\n"
   ]
  },
  {
   "cell_type": "code",
   "execution_count": null,
   "id": "28818690",
   "metadata": {},
   "outputs": [],
   "source": []
  }
 ],
 "metadata": {
  "kernelspec": {
   "display_name": "Python 3 (ipykernel)",
   "language": "python",
   "name": "python3"
  },
  "language_info": {
   "codemirror_mode": {
    "name": "ipython",
    "version": 3
   },
   "file_extension": ".py",
   "mimetype": "text/x-python",
   "name": "python",
   "nbconvert_exporter": "python",
   "pygments_lexer": "ipython3",
   "version": "3.10.4"
  }
 },
 "nbformat": 4,
 "nbformat_minor": 5
}
