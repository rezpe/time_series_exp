{
 "cells": [
  {
   "cell_type": "code",
   "execution_count": 15,
   "id": "e0f5377f",
   "metadata": {},
   "outputs": [
    {
     "name": "stdout",
     "output_type": "stream",
     "text": [
      "%pylab is deprecated, use %matplotlib inline and import the required libraries.\n",
      "Populating the interactive namespace from numpy and matplotlib\n"
     ]
    },
    {
     "name": "stderr",
     "output_type": "stream",
     "text": [
      "/home/sebas/miniconda3/envs/phd/lib/python3.10/site-packages/IPython/core/magics/pylab.py:162: UserWarning: pylab import has clobbered these variables: ['datetime']\n",
      "`%matplotlib` prevents importing * from pylab and numpy\n",
      "  warn(\"pylab import has clobbered these variables: %s\"  % clobbered +\n"
     ]
    }
   ],
   "source": [
    "# Check the data\n",
    "import pandas as pd\n",
    "%pylab inline"
   ]
  },
  {
   "cell_type": "code",
   "execution_count": 16,
   "id": "deefb946",
   "metadata": {},
   "outputs": [],
   "source": [
    "station=\"28079004\""
   ]
  },
  {
   "cell_type": "code",
   "execution_count": 17,
   "id": "ca1bd073",
   "metadata": {},
   "outputs": [],
   "source": [
    "df = pd.read_csv(f\"/home/sebas/data/air_qual_aemet/{station}.csv\",sep=\";\")"
   ]
  },
  {
   "cell_type": "code",
   "execution_count": 18,
   "id": "b821c70e",
   "metadata": {},
   "outputs": [],
   "source": [
    "# Limiting Date\n",
    "df = df[df[\"DATE\"]<\"2020-01-01\"]"
   ]
  },
  {
   "cell_type": "code",
   "execution_count": 19,
   "id": "4b1a046f",
   "metadata": {},
   "outputs": [],
   "source": [
    "tdf = df[[\"DATE\",\"SPA.NO2\"]].copy()\n",
    "tdf.columns = [\"DATE\",\"NO2\"]"
   ]
  },
  {
   "cell_type": "code",
   "execution_count": 20,
   "id": "9f55debb",
   "metadata": {},
   "outputs": [],
   "source": [
    "horizon = 13"
   ]
  },
  {
   "cell_type": "code",
   "execution_count": 21,
   "id": "e63587bf",
   "metadata": {},
   "outputs": [],
   "source": [
    "sel = np.concatenate([[1,2,3,4],\n",
    "                         [12],\n",
    "                         24*np.arange(1,9),\n",
    "                         12+24*np.arange(1,9)])  \n",
    "\n",
    "sel=np.concatenate([sel,sel-1,sel+1])  \n",
    "    \n",
    "## lagged NO2 values\n",
    "for i in sel:\n",
    "    if (i>=horizon):\n",
    "        tdf[\"NO2 - \"+str(i)] = tdf[\"NO2\"].shift(i).copy()"
   ]
  },
  {
   "cell_type": "code",
   "execution_count": 22,
   "id": "ff611a01",
   "metadata": {},
   "outputs": [],
   "source": [
    "## Fourier Columns\n",
    "freqs = [2922,1461,209,1465,4]\n",
    "l = 35064\n",
    "n = np.arange(len(tdf))\n",
    "fcols = []\n",
    "for f in freqs:\n",
    "    tdf[\"c\"+str(f)]=np.cos(n*2*np.pi*f/l)   \n",
    "    tdf[\"s\"+str(f)]=np.cos(n*2*np.pi*f/l)"
   ]
  },
  {
   "cell_type": "code",
   "execution_count": 23,
   "id": "c197e5a7",
   "metadata": {},
   "outputs": [],
   "source": [
    "tdf=tdf.dropna()"
   ]
  },
  {
   "cell_type": "code",
   "execution_count": 24,
   "id": "3cf58cad",
   "metadata": {},
   "outputs": [],
   "source": [
    "import mlflow\n",
    "mlflow.lightgbm.autolog()"
   ]
  },
  {
   "cell_type": "code",
   "execution_count": 29,
   "id": "e1471943",
   "metadata": {
    "scrolled": true
   },
   "outputs": [],
   "source": [
    "# Training/Test\n",
    "tdf_train = tdf[tdf[\"DATE\"]<\"2020\"]\n",
    "tdf_test = tdf[tdf[\"DATE\"]>\"2019\"]\n",
    "\n",
    "X_train = tdf_train.drop(columns=['NO2',\"DATE\"])\n",
    "X_test = tdf_test.drop(columns=['NO2',\"DATE\"])\n",
    "y_train = tdf_train[\"NO2\"]\n",
    "y_test = tdf_test[\"NO2\"]\n",
    "\n",
    "# Scaling\n",
    "from sklearn.preprocessing import RobustScaler\n",
    "scaler = RobustScaler()\n",
    "X_train_std = scaler.fit_transform(X_train)\n",
    "X_test_std = scaler.fit_transform(X_test)\n",
    "\n",
    "import lightgbm as lgb\n",
    "from sklearn.metrics import mean_squared_error\n",
    "from datetime import datetime\n",
    "\n",
    "with mlflow.start_run(run_name=\"LightGBM\") as run:\n",
    "    mlflow.log_param(\"features\", X_train.columns)\n",
    "    mlflow.log_param(\"architecture\", \"lightgbm\")\n",
    "    mlflow.log_param(\"station\", station)\n",
    "    mlflow.log_param(\"train-test\", f'{tdf[\"DATE\"].min()}-2019-{tdf[\"DATE\"].max()}')\n",
    "\n",
    "    lgbmodel = lgb.LGBMRegressor(n_estimators=1600,random_state=2020,max_depth=6)\n",
    "\n",
    "    start = datetime.now().timestamp()\n",
    "    lgbmodel.fit(X_train_std,y_train)\n",
    "    end = datetime.now().timestamp()\n",
    "    mlflow.log_metric(\"training_time\", end-start)\n",
    "    \n",
    "    predictions = lgbmodel.predict(X_test_std)\n",
    "    # RMSE\n",
    "    mlflow.log_metric(\"rmse\", np.sqrt(mean_squared_error(predictions,y_test)))\n",
    "    # BIAS\n",
    "    mlflow.log_metric(\"bias\", np.mean(predictions-y_test))\n",
    "    # MAPE\n",
    "    mlflow.log_metric(\"mape\", np.mean(np.abs((y_test-predictions)/(y_test))))"
   ]
  },
  {
   "cell_type": "code",
   "execution_count": 30,
   "id": "2bfbaa62",
   "metadata": {},
   "outputs": [],
   "source": [
    "runs_df = mlflow.search_runs(\"0\")"
   ]
  },
  {
   "cell_type": "code",
   "execution_count": 31,
   "id": "0e53ceda",
   "metadata": {
    "scrolled": false
   },
   "outputs": [
    {
     "data": {
      "text/html": [
       "<div>\n",
       "<style scoped>\n",
       "    .dataframe tbody tr th:only-of-type {\n",
       "        vertical-align: middle;\n",
       "    }\n",
       "\n",
       "    .dataframe tbody tr th {\n",
       "        vertical-align: top;\n",
       "    }\n",
       "\n",
       "    .dataframe thead th {\n",
       "        text-align: right;\n",
       "    }\n",
       "</style>\n",
       "<table border=\"1\" class=\"dataframe\">\n",
       "  <thead>\n",
       "    <tr style=\"text-align: right;\">\n",
       "      <th></th>\n",
       "      <th>run_id</th>\n",
       "      <th>experiment_id</th>\n",
       "      <th>status</th>\n",
       "      <th>artifact_uri</th>\n",
       "      <th>start_time</th>\n",
       "      <th>end_time</th>\n",
       "      <th>metrics.bias</th>\n",
       "      <th>metrics.mape</th>\n",
       "      <th>metrics.mean_squared_error_X_test_std</th>\n",
       "      <th>metrics.rmse</th>\n",
       "      <th>...</th>\n",
       "      <th>params.boosting_type</th>\n",
       "      <th>params.reg_lambda</th>\n",
       "      <th>params.verbose</th>\n",
       "      <th>params.features</th>\n",
       "      <th>params.subsample_freq</th>\n",
       "      <th>tags.mlflow.runName</th>\n",
       "      <th>tags.mlflow.user</th>\n",
       "      <th>tags.mlflow.source.name</th>\n",
       "      <th>tags.mlflow.source.type</th>\n",
       "      <th>tags.mlflow.log-model.history</th>\n",
       "    </tr>\n",
       "  </thead>\n",
       "  <tbody>\n",
       "    <tr>\n",
       "      <th>0</th>\n",
       "      <td>b1b691d278294232ae39b70985b37d76</td>\n",
       "      <td>0</td>\n",
       "      <td>FINISHED</td>\n",
       "      <td>file:///home/sebas/Documents/projects/exp_arti...</td>\n",
       "      <td>2022-07-20 11:32:10.125000+00:00</td>\n",
       "      <td>2022-07-20 11:32:19.388000+00:00</td>\n",
       "      <td>5.355787</td>\n",
       "      <td>0.578655</td>\n",
       "      <td>284.481750</td>\n",
       "      <td>16.866587</td>\n",
       "      <td>...</td>\n",
       "      <td>gbdt</td>\n",
       "      <td>0.0</td>\n",
       "      <td>-1</td>\n",
       "      <td>Index(['NO2 - 24', 'NO2 - 48', 'NO2 - 72', 'NO...</td>\n",
       "      <td>0</td>\n",
       "      <td>LightGBM</td>\n",
       "      <td>sebas</td>\n",
       "      <td>/home/sebas/miniconda3/envs/phd/lib/python3.10...</td>\n",
       "      <td>LOCAL</td>\n",
       "      <td>[{\"run_id\": \"b1b691d278294232ae39b70985b37d76\"...</td>\n",
       "    </tr>\n",
       "    <tr>\n",
       "      <th>1</th>\n",
       "      <td>3328bfc0e61547498c7bd557acfb15d3</td>\n",
       "      <td>0</td>\n",
       "      <td>FINISHED</td>\n",
       "      <td>file:///home/sebas/Documents/projects/exp_arti...</td>\n",
       "      <td>2022-07-20 11:26:27.695000+00:00</td>\n",
       "      <td>2022-07-20 11:26:37.051000+00:00</td>\n",
       "      <td>5.543123</td>\n",
       "      <td>0.573890</td>\n",
       "      <td>272.429743</td>\n",
       "      <td>16.505446</td>\n",
       "      <td>...</td>\n",
       "      <td>gbdt</td>\n",
       "      <td>0.0</td>\n",
       "      <td>-1</td>\n",
       "      <td>Index(['NO2 - 24', 'NO2 - 48', 'NO2 - 72', 'NO...</td>\n",
       "      <td>0</td>\n",
       "      <td>LightGBM</td>\n",
       "      <td>sebas</td>\n",
       "      <td>/home/sebas/miniconda3/envs/phd/lib/python3.10...</td>\n",
       "      <td>LOCAL</td>\n",
       "      <td>[{\"run_id\": \"3328bfc0e61547498c7bd557acfb15d3\"...</td>\n",
       "    </tr>\n",
       "    <tr>\n",
       "      <th>2</th>\n",
       "      <td>0016dd090b5d4d66b2d6abe73c791297</td>\n",
       "      <td>0</td>\n",
       "      <td>FINISHED</td>\n",
       "      <td>file:///home/sebas/Documents/projects/exp_arti...</td>\n",
       "      <td>2022-07-20 11:25:55.552000+00:00</td>\n",
       "      <td>2022-07-20 11:26:04.071000+00:00</td>\n",
       "      <td>5.975779</td>\n",
       "      <td>0.651860</td>\n",
       "      <td>324.436498</td>\n",
       "      <td>18.012121</td>\n",
       "      <td>...</td>\n",
       "      <td>gbdt</td>\n",
       "      <td>0.0</td>\n",
       "      <td>-1</td>\n",
       "      <td>Index(['NO2 - 24', 'NO2 - 48', 'NO2 - 72', 'NO...</td>\n",
       "      <td>0</td>\n",
       "      <td>LightGBM</td>\n",
       "      <td>sebas</td>\n",
       "      <td>/home/sebas/miniconda3/envs/phd/lib/python3.10...</td>\n",
       "      <td>LOCAL</td>\n",
       "      <td>[{\"run_id\": \"0016dd090b5d4d66b2d6abe73c791297\"...</td>\n",
       "    </tr>\n",
       "  </tbody>\n",
       "</table>\n",
       "<p>3 rows × 45 columns</p>\n",
       "</div>"
      ],
      "text/plain": [
       "                             run_id experiment_id    status  \\\n",
       "0  b1b691d278294232ae39b70985b37d76             0  FINISHED   \n",
       "1  3328bfc0e61547498c7bd557acfb15d3             0  FINISHED   \n",
       "2  0016dd090b5d4d66b2d6abe73c791297             0  FINISHED   \n",
       "\n",
       "                                        artifact_uri  \\\n",
       "0  file:///home/sebas/Documents/projects/exp_arti...   \n",
       "1  file:///home/sebas/Documents/projects/exp_arti...   \n",
       "2  file:///home/sebas/Documents/projects/exp_arti...   \n",
       "\n",
       "                        start_time                         end_time  \\\n",
       "0 2022-07-20 11:32:10.125000+00:00 2022-07-20 11:32:19.388000+00:00   \n",
       "1 2022-07-20 11:26:27.695000+00:00 2022-07-20 11:26:37.051000+00:00   \n",
       "2 2022-07-20 11:25:55.552000+00:00 2022-07-20 11:26:04.071000+00:00   \n",
       "\n",
       "   metrics.bias  metrics.mape  metrics.mean_squared_error_X_test_std  \\\n",
       "0      5.355787      0.578655                             284.481750   \n",
       "1      5.543123      0.573890                             272.429743   \n",
       "2      5.975779      0.651860                             324.436498   \n",
       "\n",
       "   metrics.rmse  ...  params.boosting_type params.reg_lambda params.verbose  \\\n",
       "0     16.866587  ...                  gbdt               0.0             -1   \n",
       "1     16.505446  ...                  gbdt               0.0             -1   \n",
       "2     18.012121  ...                  gbdt               0.0             -1   \n",
       "\n",
       "                                     params.features params.subsample_freq  \\\n",
       "0  Index(['NO2 - 24', 'NO2 - 48', 'NO2 - 72', 'NO...                     0   \n",
       "1  Index(['NO2 - 24', 'NO2 - 48', 'NO2 - 72', 'NO...                     0   \n",
       "2  Index(['NO2 - 24', 'NO2 - 48', 'NO2 - 72', 'NO...                     0   \n",
       "\n",
       "  tags.mlflow.runName tags.mlflow.user  \\\n",
       "0            LightGBM            sebas   \n",
       "1            LightGBM            sebas   \n",
       "2            LightGBM            sebas   \n",
       "\n",
       "                             tags.mlflow.source.name tags.mlflow.source.type  \\\n",
       "0  /home/sebas/miniconda3/envs/phd/lib/python3.10...                   LOCAL   \n",
       "1  /home/sebas/miniconda3/envs/phd/lib/python3.10...                   LOCAL   \n",
       "2  /home/sebas/miniconda3/envs/phd/lib/python3.10...                   LOCAL   \n",
       "\n",
       "                       tags.mlflow.log-model.history  \n",
       "0  [{\"run_id\": \"b1b691d278294232ae39b70985b37d76\"...  \n",
       "1  [{\"run_id\": \"3328bfc0e61547498c7bd557acfb15d3\"...  \n",
       "2  [{\"run_id\": \"0016dd090b5d4d66b2d6abe73c791297\"...  \n",
       "\n",
       "[3 rows x 45 columns]"
      ]
     },
     "execution_count": 31,
     "metadata": {},
     "output_type": "execute_result"
    }
   ],
   "source": [
    "runs_df"
   ]
  },
  {
   "cell_type": "code",
   "execution_count": 28,
   "id": "8fe94e80",
   "metadata": {},
   "outputs": [],
   "source": [
    "#plt.plot(y_test[-100:].values)\n",
    "#plt.plot(predictions[-100:])\n",
    "#plt.plot(y_test.values)\n",
    "#plt.plot(predictions,c=\"orange\")"
   ]
  }
 ],
 "metadata": {
  "kernelspec": {
   "display_name": "Python 3 (ipykernel)",
   "language": "python",
   "name": "python3"
  },
  "language_info": {
   "codemirror_mode": {
    "name": "ipython",
    "version": 3
   },
   "file_extension": ".py",
   "mimetype": "text/x-python",
   "name": "python",
   "nbconvert_exporter": "python",
   "pygments_lexer": "ipython3",
   "version": "3.10.4"
  }
 },
 "nbformat": 4,
 "nbformat_minor": 5
}
