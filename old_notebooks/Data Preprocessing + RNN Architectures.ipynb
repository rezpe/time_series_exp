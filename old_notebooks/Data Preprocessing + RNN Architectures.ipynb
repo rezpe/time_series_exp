{
 "cells": [
  {
   "cell_type": "code",
   "execution_count": 1,
   "id": "08cd24b0",
   "metadata": {},
   "outputs": [
    {
     "name": "stdout",
     "output_type": "stream",
     "text": [
      "%pylab is deprecated, use %matplotlib inline and import the required libraries.\n",
      "Populating the interactive namespace from numpy and matplotlib\n"
     ]
    }
   ],
   "source": [
    "# Check the data\n",
    "import pandas as pd\n",
    "%pylab inline"
   ]
  },
  {
   "cell_type": "code",
   "execution_count": 2,
   "id": "6412ca68",
   "metadata": {},
   "outputs": [],
   "source": [
    "station=\"28079004\""
   ]
  },
  {
   "cell_type": "code",
   "execution_count": 3,
   "id": "582e108c",
   "metadata": {},
   "outputs": [],
   "source": [
    "df = pd.read_csv(f\"/home/sebas/data/air_qual_aemet/{station}.csv\",sep=\";\")"
   ]
  },
  {
   "cell_type": "code",
   "execution_count": 4,
   "id": "5f147482",
   "metadata": {},
   "outputs": [
    {
     "data": {
      "text/html": [
       "<div>\n",
       "<style scoped>\n",
       "    .dataframe tbody tr th:only-of-type {\n",
       "        vertical-align: middle;\n",
       "    }\n",
       "\n",
       "    .dataframe tbody tr th {\n",
       "        vertical-align: top;\n",
       "    }\n",
       "\n",
       "    .dataframe thead th {\n",
       "        text-align: right;\n",
       "    }\n",
       "</style>\n",
       "<table border=\"1\" class=\"dataframe\">\n",
       "  <thead>\n",
       "    <tr style=\"text-align: right;\">\n",
       "      <th></th>\n",
       "      <th>DATE</th>\n",
       "      <th>AEMET.BLH</th>\n",
       "      <th>AEMET.SP</th>\n",
       "      <th>AEMET.T2M</th>\n",
       "      <th>AEMET.TP</th>\n",
       "      <th>AEMET.U10</th>\n",
       "      <th>AEMET.V10</th>\n",
       "      <th>AEMET.WS</th>\n",
       "      <th>AEMET.WD</th>\n",
       "      <th>MACC.NO2</th>\n",
       "      <th>MACC.O3</th>\n",
       "      <th>MACC.PM10</th>\n",
       "      <th>MACC.PM25</th>\n",
       "      <th>SPA.NO2</th>\n",
       "      <th>SPA.O3</th>\n",
       "      <th>SPA.PM10</th>\n",
       "      <th>SPA.PM25</th>\n",
       "    </tr>\n",
       "  </thead>\n",
       "  <tbody>\n",
       "    <tr>\n",
       "      <th>0</th>\n",
       "      <td>2013-07-01 10:00:00</td>\n",
       "      <td>649.157471</td>\n",
       "      <td>94378.5000</td>\n",
       "      <td>296.492920</td>\n",
       "      <td>4.235165e-22</td>\n",
       "      <td>-2.145237</td>\n",
       "      <td>0.100364</td>\n",
       "      <td>2.147583</td>\n",
       "      <td>92.678598</td>\n",
       "      <td>34.911728</td>\n",
       "      <td>49.551208</td>\n",
       "      <td>14.674492</td>\n",
       "      <td>11.609944</td>\n",
       "      <td>57.0</td>\n",
       "      <td>NaN</td>\n",
       "      <td>NaN</td>\n",
       "      <td>NaN</td>\n",
       "    </tr>\n",
       "    <tr>\n",
       "      <th>1</th>\n",
       "      <td>2013-07-01 11:00:00</td>\n",
       "      <td>781.914062</td>\n",
       "      <td>94366.6250</td>\n",
       "      <td>298.389648</td>\n",
       "      <td>4.235165e-22</td>\n",
       "      <td>-1.874795</td>\n",
       "      <td>0.412883</td>\n",
       "      <td>1.919721</td>\n",
       "      <td>102.419892</td>\n",
       "      <td>37.657890</td>\n",
       "      <td>53.360588</td>\n",
       "      <td>15.406871</td>\n",
       "      <td>12.252560</td>\n",
       "      <td>57.0</td>\n",
       "      <td>NaN</td>\n",
       "      <td>NaN</td>\n",
       "      <td>NaN</td>\n",
       "    </tr>\n",
       "    <tr>\n",
       "      <th>2</th>\n",
       "      <td>2013-07-01 12:00:00</td>\n",
       "      <td>972.309570</td>\n",
       "      <td>94331.1250</td>\n",
       "      <td>300.313965</td>\n",
       "      <td>4.235165e-22</td>\n",
       "      <td>-1.585706</td>\n",
       "      <td>0.771409</td>\n",
       "      <td>1.763387</td>\n",
       "      <td>115.941839</td>\n",
       "      <td>26.125113</td>\n",
       "      <td>64.737213</td>\n",
       "      <td>15.268597</td>\n",
       "      <td>9.232553</td>\n",
       "      <td>45.0</td>\n",
       "      <td>NaN</td>\n",
       "      <td>NaN</td>\n",
       "      <td>NaN</td>\n",
       "    </tr>\n",
       "    <tr>\n",
       "      <th>3</th>\n",
       "      <td>2013-07-01 13:00:00</td>\n",
       "      <td>2179.478760</td>\n",
       "      <td>94291.6875</td>\n",
       "      <td>302.364014</td>\n",
       "      <td>4.235165e-22</td>\n",
       "      <td>-1.357002</td>\n",
       "      <td>1.302465</td>\n",
       "      <td>1.880923</td>\n",
       "      <td>133.825214</td>\n",
       "      <td>19.706379</td>\n",
       "      <td>73.538773</td>\n",
       "      <td>12.838573</td>\n",
       "      <td>8.626498</td>\n",
       "      <td>42.0</td>\n",
       "      <td>NaN</td>\n",
       "      <td>NaN</td>\n",
       "      <td>NaN</td>\n",
       "    </tr>\n",
       "    <tr>\n",
       "      <th>4</th>\n",
       "      <td>2013-07-01 14:00:00</td>\n",
       "      <td>3467.073242</td>\n",
       "      <td>94220.6875</td>\n",
       "      <td>304.050781</td>\n",
       "      <td>4.235165e-22</td>\n",
       "      <td>-0.867949</td>\n",
       "      <td>1.785319</td>\n",
       "      <td>1.985119</td>\n",
       "      <td>154.072887</td>\n",
       "      <td>20.176041</td>\n",
       "      <td>82.475800</td>\n",
       "      <td>13.182467</td>\n",
       "      <td>8.578526</td>\n",
       "      <td>30.0</td>\n",
       "      <td>NaN</td>\n",
       "      <td>NaN</td>\n",
       "      <td>NaN</td>\n",
       "    </tr>\n",
       "  </tbody>\n",
       "</table>\n",
       "</div>"
      ],
      "text/plain": [
       "                  DATE    AEMET.BLH    AEMET.SP   AEMET.T2M      AEMET.TP  \\\n",
       "0  2013-07-01 10:00:00   649.157471  94378.5000  296.492920  4.235165e-22   \n",
       "1  2013-07-01 11:00:00   781.914062  94366.6250  298.389648  4.235165e-22   \n",
       "2  2013-07-01 12:00:00   972.309570  94331.1250  300.313965  4.235165e-22   \n",
       "3  2013-07-01 13:00:00  2179.478760  94291.6875  302.364014  4.235165e-22   \n",
       "4  2013-07-01 14:00:00  3467.073242  94220.6875  304.050781  4.235165e-22   \n",
       "\n",
       "   AEMET.U10  AEMET.V10  AEMET.WS    AEMET.WD   MACC.NO2    MACC.O3  \\\n",
       "0  -2.145237   0.100364  2.147583   92.678598  34.911728  49.551208   \n",
       "1  -1.874795   0.412883  1.919721  102.419892  37.657890  53.360588   \n",
       "2  -1.585706   0.771409  1.763387  115.941839  26.125113  64.737213   \n",
       "3  -1.357002   1.302465  1.880923  133.825214  19.706379  73.538773   \n",
       "4  -0.867949   1.785319  1.985119  154.072887  20.176041  82.475800   \n",
       "\n",
       "   MACC.PM10  MACC.PM25  SPA.NO2  SPA.O3  SPA.PM10  SPA.PM25  \n",
       "0  14.674492  11.609944     57.0     NaN       NaN       NaN  \n",
       "1  15.406871  12.252560     57.0     NaN       NaN       NaN  \n",
       "2  15.268597   9.232553     45.0     NaN       NaN       NaN  \n",
       "3  12.838573   8.626498     42.0     NaN       NaN       NaN  \n",
       "4  13.182467   8.578526     30.0     NaN       NaN       NaN  "
      ]
     },
     "execution_count": 4,
     "metadata": {},
     "output_type": "execute_result"
    }
   ],
   "source": [
    "df.head()"
   ]
  },
  {
   "cell_type": "code",
   "execution_count": 5,
   "id": "79eb6dcd",
   "metadata": {},
   "outputs": [],
   "source": [
    "# Limiting Date\n",
    "df = df[df[\"DATE\"]<\"2020-01-01\"]"
   ]
  },
  {
   "cell_type": "code",
   "execution_count": 6,
   "id": "aa9700b1",
   "metadata": {},
   "outputs": [],
   "source": [
    "tdf = df[[\"DATE\",\"SPA.NO2\"]].copy()\n",
    "tdf.columns = [\"DATE\",\"NO2\"]"
   ]
  },
  {
   "cell_type": "markdown",
   "id": "6b8aa295",
   "metadata": {},
   "source": [
    "1. Data partitioning\n",
    "2. Addressing missing values\n",
    "3. Log transformation\n",
    "4. Apply STL Decomposition\n",
    "5. Moving window transformation (For the relevant architectures)\n",
    "6. Trend normalisation"
   ]
  },
  {
   "cell_type": "code",
   "execution_count": 7,
   "id": "e591ce2c",
   "metadata": {},
   "outputs": [],
   "source": [
    "tdf[\"NO2\"]=np.log1p(tdf[\"NO2\"])"
   ]
  },
  {
   "cell_type": "code",
   "execution_count": 8,
   "id": "607b9240",
   "metadata": {},
   "outputs": [
    {
     "data": {
      "text/html": [
       "<div>\n",
       "<style scoped>\n",
       "    .dataframe tbody tr th:only-of-type {\n",
       "        vertical-align: middle;\n",
       "    }\n",
       "\n",
       "    .dataframe tbody tr th {\n",
       "        vertical-align: top;\n",
       "    }\n",
       "\n",
       "    .dataframe thead th {\n",
       "        text-align: right;\n",
       "    }\n",
       "</style>\n",
       "<table border=\"1\" class=\"dataframe\">\n",
       "  <thead>\n",
       "    <tr style=\"text-align: right;\">\n",
       "      <th></th>\n",
       "      <th>DATE</th>\n",
       "      <th>NO2</th>\n",
       "    </tr>\n",
       "  </thead>\n",
       "  <tbody>\n",
       "    <tr>\n",
       "      <th>0</th>\n",
       "      <td>2013-07-01 10:00:00</td>\n",
       "      <td>4.060443</td>\n",
       "    </tr>\n",
       "    <tr>\n",
       "      <th>1</th>\n",
       "      <td>2013-07-01 11:00:00</td>\n",
       "      <td>4.060443</td>\n",
       "    </tr>\n",
       "    <tr>\n",
       "      <th>2</th>\n",
       "      <td>2013-07-01 12:00:00</td>\n",
       "      <td>3.828641</td>\n",
       "    </tr>\n",
       "    <tr>\n",
       "      <th>3</th>\n",
       "      <td>2013-07-01 13:00:00</td>\n",
       "      <td>3.761200</td>\n",
       "    </tr>\n",
       "    <tr>\n",
       "      <th>4</th>\n",
       "      <td>2013-07-01 14:00:00</td>\n",
       "      <td>3.433987</td>\n",
       "    </tr>\n",
       "  </tbody>\n",
       "</table>\n",
       "</div>"
      ],
      "text/plain": [
       "                  DATE       NO2\n",
       "0  2013-07-01 10:00:00  4.060443\n",
       "1  2013-07-01 11:00:00  4.060443\n",
       "2  2013-07-01 12:00:00  3.828641\n",
       "3  2013-07-01 13:00:00  3.761200\n",
       "4  2013-07-01 14:00:00  3.433987"
      ]
     },
     "execution_count": 8,
     "metadata": {},
     "output_type": "execute_result"
    }
   ],
   "source": [
    "tdf.head()"
   ]
  },
  {
   "cell_type": "code",
   "execution_count": 10,
   "id": "13b666d4",
   "metadata": {},
   "outputs": [],
   "source": [
    "from statsmodels.tsa.seasonal import seasonal_decompose"
   ]
  },
  {
   "cell_type": "code",
   "execution_count": 11,
   "id": "2f75f3b3",
   "metadata": {},
   "outputs": [
    {
     "data": {
      "image/png": "[encoded data removed]",
      "text/plain": [
       "<Figure size 432x288 with 4 Axes>"
      ]
     },
     "metadata": {
      "needs_background": "light"
     },
     "output_type": "display_data"
    }
   ],
   "source": [
    "stl = seasonal_decomp = seasonal_decompose(tdf[\"NO2\"], model=\"additive\",period=24)\n",
    "stl.plot();"
   ]
  },
  {
   "cell_type": "code",
   "execution_count": 13,
   "id": "75e0457b",
   "metadata": {},
   "outputs": [
    {
     "data": {
      "image/png": "[encoded data removed]",
      "text/plain": [
       "<Figure size 432x288 with 1 Axes>"
      ]
     },
     "metadata": {
      "needs_background": "light"
     },
     "output_type": "display_data"
    }
   ],
   "source": [
    "plt.plot(stl.seasonal[-100:])\n",
    "for i in stl.seasonal[-100:].index:\n",
    "    if i%(24)==0:\n",
    "        plt.axvline(x=i,c=\"red\")"
   ]
  },
  {
   "cell_type": "code",
   "execution_count": 14,
   "id": "366beaaa",
   "metadata": {},
   "outputs": [],
   "source": [
    "tdf[\"NO2_noseason\"]=tdf[\"NO2\"]-stl.seasonal"
   ]
  },
  {
   "cell_type": "code",
   "execution_count": 15,
   "id": "8618f9b6",
   "metadata": {},
   "outputs": [
    {
     "data": {
      "text/html": [
       "<div>\n",
       "<style scoped>\n",
       "    .dataframe tbody tr th:only-of-type {\n",
       "        vertical-align: middle;\n",
       "    }\n",
       "\n",
       "    .dataframe tbody tr th {\n",
       "        vertical-align: top;\n",
       "    }\n",
       "\n",
       "    .dataframe thead th {\n",
       "        text-align: right;\n",
       "    }\n",
       "</style>\n",
       "<table border=\"1\" class=\"dataframe\">\n",
       "  <thead>\n",
       "    <tr style=\"text-align: right;\">\n",
       "      <th></th>\n",
       "      <th>DATE</th>\n",
       "      <th>NO2</th>\n",
       "      <th>NO2_noseason</th>\n",
       "    </tr>\n",
       "  </thead>\n",
       "  <tbody>\n",
       "    <tr>\n",
       "      <th>0</th>\n",
       "      <td>2013-07-01 10:00:00</td>\n",
       "      <td>4.060443</td>\n",
       "      <td>3.832071</td>\n",
       "    </tr>\n",
       "    <tr>\n",
       "      <th>1</th>\n",
       "      <td>2013-07-01 11:00:00</td>\n",
       "      <td>4.060443</td>\n",
       "      <td>3.909515</td>\n",
       "    </tr>\n",
       "    <tr>\n",
       "      <th>2</th>\n",
       "      <td>2013-07-01 12:00:00</td>\n",
       "      <td>3.828641</td>\n",
       "      <td>3.748381</td>\n",
       "    </tr>\n",
       "    <tr>\n",
       "      <th>3</th>\n",
       "      <td>2013-07-01 13:00:00</td>\n",
       "      <td>3.761200</td>\n",
       "      <td>3.782789</td>\n",
       "    </tr>\n",
       "    <tr>\n",
       "      <th>4</th>\n",
       "      <td>2013-07-01 14:00:00</td>\n",
       "      <td>3.433987</td>\n",
       "      <td>3.552079</td>\n",
       "    </tr>\n",
       "  </tbody>\n",
       "</table>\n",
       "</div>"
      ],
      "text/plain": [
       "                  DATE       NO2  NO2_noseason\n",
       "0  2013-07-01 10:00:00  4.060443      3.832071\n",
       "1  2013-07-01 11:00:00  4.060443      3.909515\n",
       "2  2013-07-01 12:00:00  3.828641      3.748381\n",
       "3  2013-07-01 13:00:00  3.761200      3.782789\n",
       "4  2013-07-01 14:00:00  3.433987      3.552079"
      ]
     },
     "execution_count": 15,
     "metadata": {},
     "output_type": "execute_result"
    }
   ],
   "source": [
    "tdf.head()"
   ]
  },
  {
   "cell_type": "code",
   "execution_count": 16,
   "id": "dd30c2c3",
   "metadata": {},
   "outputs": [],
   "source": [
    "tdf[\"trend\"]=stl.trend"
   ]
  },
  {
   "cell_type": "code",
   "execution_count": 25,
   "id": "4d757b0b",
   "metadata": {},
   "outputs": [
    {
     "data": {
      "image/png": "[encoded data removed]",
      "text/plain": [
       "<Figure size 432x288 with 1 Axes>"
      ]
     },
     "metadata": {
      "needs_background": "light"
     },
     "output_type": "display_data"
    }
   ],
   "source": [
    "plt.hist(tdf[\"NO2\"],bins=30);"
   ]
  },
  {
   "cell_type": "code",
   "execution_count": 27,
   "id": "16c27c73",
   "metadata": {},
   "outputs": [],
   "source": [
    "import torch \n",
    "import torch.nn as nn \n",
    "import torch.nn.functional as F \n",
    "import torch.optim as optim "
   ]
  },
  {
   "cell_type": "code",
   "execution_count": 28,
   "id": "af9dea19",
   "metadata": {},
   "outputs": [
    {
     "data": {
      "text/plain": [
       "True"
      ]
     },
     "execution_count": 28,
     "metadata": {},
     "output_type": "execute_result"
    }
   ],
   "source": [
    "torch.cuda.is_available()"
   ]
  },
  {
   "cell_type": "code",
   "execution_count": 29,
   "id": "af55ea67",
   "metadata": {},
   "outputs": [
    {
     "data": {
      "text/plain": [
       "device(type='cuda')"
      ]
     },
     "execution_count": 29,
     "metadata": {},
     "output_type": "execute_result"
    }
   ],
   "source": [
    "device = torch.device(\"cuda\" if torch.cuda.is_available() else \"cpu\")\n",
    "device"
   ]
  },
  {
   "cell_type": "code",
   "execution_count": 43,
   "id": "c2df323b",
   "metadata": {},
   "outputs": [],
   "source": [
    "horizon=13\n",
    "tdf[\"trend_norm\"]=tdf[\"trend\"].shift(horizon)\n",
    "\n",
    "# We remove the trend and keep past values\n",
    "for h in reversed(np.arange(0,168*2)):\n",
    "    if h>horizon:\n",
    "        tdf[f\"NO2 - {h}\"]=(tdf[\"NO2\"].shift(h)-tdf[\"trend_norm\"]).copy()\n",
    "\n",
    "\n",
    "tdf=tdf.dropna()\n",
    "\n",
    "cols = tdf.columns[tdf.columns.str.contains(\"NO2 -\")]\n",
    "X = tdf[cols].copy()\n",
    "y = tdf[[\"NO2\"]].copy()"
   ]
  },
  {
   "cell_type": "code",
   "execution_count": 45,
   "id": "a23f1d80",
   "metadata": {},
   "outputs": [
    {
     "data": {
      "text/html": [
       "<div>\n",
       "<style scoped>\n",
       "    .dataframe tbody tr th:only-of-type {\n",
       "        vertical-align: middle;\n",
       "    }\n",
       "\n",
       "    .dataframe tbody tr th {\n",
       "        vertical-align: top;\n",
       "    }\n",
       "\n",
       "    .dataframe thead th {\n",
       "        text-align: right;\n",
       "    }\n",
       "</style>\n",
       "<table border=\"1\" class=\"dataframe\">\n",
       "  <thead>\n",
       "    <tr style=\"text-align: right;\">\n",
       "      <th></th>\n",
       "      <th>NO2 - 335</th>\n",
       "      <th>NO2 - 334</th>\n",
       "      <th>NO2 - 333</th>\n",
       "      <th>NO2 - 332</th>\n",
       "      <th>NO2 - 331</th>\n",
       "      <th>NO2 - 330</th>\n",
       "      <th>NO2 - 329</th>\n",
       "      <th>NO2 - 328</th>\n",
       "      <th>NO2 - 327</th>\n",
       "      <th>NO2 - 326</th>\n",
       "      <th>...</th>\n",
       "      <th>NO2 - 23</th>\n",
       "      <th>NO2 - 22</th>\n",
       "      <th>NO2 - 21</th>\n",
       "      <th>NO2 - 20</th>\n",
       "      <th>NO2 - 19</th>\n",
       "      <th>NO2 - 18</th>\n",
       "      <th>NO2 - 17</th>\n",
       "      <th>NO2 - 16</th>\n",
       "      <th>NO2 - 15</th>\n",
       "      <th>NO2 - 14</th>\n",
       "    </tr>\n",
       "  </thead>\n",
       "  <tbody>\n",
       "    <tr>\n",
       "      <th>1675</th>\n",
       "      <td>-1.484863</td>\n",
       "      <td>-0.722723</td>\n",
       "      <td>-0.339730</td>\n",
       "      <td>-0.386250</td>\n",
       "      <td>-0.597559</td>\n",
       "      <td>-0.486334</td>\n",
       "      <td>-0.252719</td>\n",
       "      <td>-0.486334</td>\n",
       "      <td>-0.295279</td>\n",
       "      <td>-0.386250</td>\n",
       "      <td>...</td>\n",
       "      <td>0.282799</td>\n",
       "      <td>0.461048</td>\n",
       "      <td>0.440428</td>\n",
       "      <td>0.440428</td>\n",
       "      <td>0.306897</td>\n",
       "      <td>-0.029575</td>\n",
       "      <td>-0.295279</td>\n",
       "      <td>-0.597559</td>\n",
       "      <td>-0.597559</td>\n",
       "      <td>-0.658184</td>\n",
       "    </tr>\n",
       "    <tr>\n",
       "      <th>1676</th>\n",
       "      <td>-0.699635</td>\n",
       "      <td>-0.316643</td>\n",
       "      <td>-0.363163</td>\n",
       "      <td>-0.574472</td>\n",
       "      <td>-0.463247</td>\n",
       "      <td>-0.229632</td>\n",
       "      <td>-0.463247</td>\n",
       "      <td>-0.272191</td>\n",
       "      <td>-0.363163</td>\n",
       "      <td>-0.363163</td>\n",
       "      <td>...</td>\n",
       "      <td>0.484135</td>\n",
       "      <td>0.463515</td>\n",
       "      <td>0.463515</td>\n",
       "      <td>0.329984</td>\n",
       "      <td>-0.006488</td>\n",
       "      <td>-0.272191</td>\n",
       "      <td>-0.574472</td>\n",
       "      <td>-0.574472</td>\n",
       "      <td>-0.635097</td>\n",
       "      <td>-0.842736</td>\n",
       "    </tr>\n",
       "    <tr>\n",
       "      <th>1677</th>\n",
       "      <td>-0.304700</td>\n",
       "      <td>-0.351220</td>\n",
       "      <td>-0.562529</td>\n",
       "      <td>-0.451304</td>\n",
       "      <td>-0.217689</td>\n",
       "      <td>-0.451304</td>\n",
       "      <td>-0.260249</td>\n",
       "      <td>-0.351220</td>\n",
       "      <td>-0.351220</td>\n",
       "      <td>-0.217689</td>\n",
       "      <td>...</td>\n",
       "      <td>0.475458</td>\n",
       "      <td>0.475458</td>\n",
       "      <td>0.341927</td>\n",
       "      <td>0.005455</td>\n",
       "      <td>-0.260249</td>\n",
       "      <td>-0.562529</td>\n",
       "      <td>-0.562529</td>\n",
       "      <td>-0.623154</td>\n",
       "      <td>-0.830793</td>\n",
       "      <td>-0.562529</td>\n",
       "    </tr>\n",
       "    <tr>\n",
       "      <th>1678</th>\n",
       "      <td>-0.353856</td>\n",
       "      <td>-0.565166</td>\n",
       "      <td>-0.453940</td>\n",
       "      <td>-0.220325</td>\n",
       "      <td>-0.453940</td>\n",
       "      <td>-0.262885</td>\n",
       "      <td>-0.353856</td>\n",
       "      <td>-0.353856</td>\n",
       "      <td>-0.220325</td>\n",
       "      <td>-0.140282</td>\n",
       "      <td>...</td>\n",
       "      <td>0.472822</td>\n",
       "      <td>0.339291</td>\n",
       "      <td>0.002818</td>\n",
       "      <td>-0.262885</td>\n",
       "      <td>-0.565166</td>\n",
       "      <td>-0.565166</td>\n",
       "      <td>-0.625790</td>\n",
       "      <td>-0.833430</td>\n",
       "      <td>-0.565166</td>\n",
       "      <td>-0.262885</td>\n",
       "    </tr>\n",
       "    <tr>\n",
       "      <th>1679</th>\n",
       "      <td>-0.581412</td>\n",
       "      <td>-0.470187</td>\n",
       "      <td>-0.236572</td>\n",
       "      <td>-0.470187</td>\n",
       "      <td>-0.279131</td>\n",
       "      <td>-0.370103</td>\n",
       "      <td>-0.370103</td>\n",
       "      <td>-0.236572</td>\n",
       "      <td>-0.156529</td>\n",
       "      <td>0.140722</td>\n",
       "      <td>...</td>\n",
       "      <td>0.323044</td>\n",
       "      <td>-0.013428</td>\n",
       "      <td>-0.279131</td>\n",
       "      <td>-0.581412</td>\n",
       "      <td>-0.581412</td>\n",
       "      <td>-0.642037</td>\n",
       "      <td>-0.849676</td>\n",
       "      <td>-0.581412</td>\n",
       "      <td>-0.279131</td>\n",
       "      <td>0.051110</td>\n",
       "    </tr>\n",
       "  </tbody>\n",
       "</table>\n",
       "<p>5 rows × 322 columns</p>\n",
       "</div>"
      ],
      "text/plain": [
       "      NO2 - 335  NO2 - 334  NO2 - 333  NO2 - 332  NO2 - 331  NO2 - 330  \\\n",
       "1675  -1.484863  -0.722723  -0.339730  -0.386250  -0.597559  -0.486334   \n",
       "1676  -0.699635  -0.316643  -0.363163  -0.574472  -0.463247  -0.229632   \n",
       "1677  -0.304700  -0.351220  -0.562529  -0.451304  -0.217689  -0.451304   \n",
       "1678  -0.353856  -0.565166  -0.453940  -0.220325  -0.453940  -0.262885   \n",
       "1679  -0.581412  -0.470187  -0.236572  -0.470187  -0.279131  -0.370103   \n",
       "\n",
       "      NO2 - 329  NO2 - 328  NO2 - 327  NO2 - 326  ...  NO2 - 23  NO2 - 22  \\\n",
       "1675  -0.252719  -0.486334  -0.295279  -0.386250  ...  0.282799  0.461048   \n",
       "1676  -0.463247  -0.272191  -0.363163  -0.363163  ...  0.484135  0.463515   \n",
       "1677  -0.260249  -0.351220  -0.351220  -0.217689  ...  0.475458  0.475458   \n",
       "1678  -0.353856  -0.353856  -0.220325  -0.140282  ...  0.472822  0.339291   \n",
       "1679  -0.370103  -0.236572  -0.156529   0.140722  ...  0.323044 -0.013428   \n",
       "\n",
       "      NO2 - 21  NO2 - 20  NO2 - 19  NO2 - 18  NO2 - 17  NO2 - 16  NO2 - 15  \\\n",
       "1675  0.440428  0.440428  0.306897 -0.029575 -0.295279 -0.597559 -0.597559   \n",
       "1676  0.463515  0.329984 -0.006488 -0.272191 -0.574472 -0.574472 -0.635097   \n",
       "1677  0.341927  0.005455 -0.260249 -0.562529 -0.562529 -0.623154 -0.830793   \n",
       "1678  0.002818 -0.262885 -0.565166 -0.565166 -0.625790 -0.833430 -0.565166   \n",
       "1679 -0.279131 -0.581412 -0.581412 -0.642037 -0.849676 -0.581412 -0.279131   \n",
       "\n",
       "      NO2 - 14  \n",
       "1675 -0.658184  \n",
       "1676 -0.842736  \n",
       "1677 -0.562529  \n",
       "1678 -0.262885  \n",
       "1679  0.051110  \n",
       "\n",
       "[5 rows x 322 columns]"
      ]
     },
     "execution_count": 45,
     "metadata": {},
     "output_type": "execute_result"
    }
   ],
   "source": [
    "X_train.head()"
   ]
  },
  {
   "cell_type": "code",
   "execution_count": 46,
   "id": "bf612bb1",
   "metadata": {},
   "outputs": [],
   "source": [
    "TRAIN_SPLIT = tdf[tdf[\"DATE\"]>\"2018\"].index.values[0]\n",
    "\n",
    "X_train=X[X.index<=TRAIN_SPLIT].copy()\n",
    "X_test=X[X.index>TRAIN_SPLIT].copy()\n",
    "y_train = y[X.index<=TRAIN_SPLIT].copy()\n",
    "y_test = y[X.index>TRAIN_SPLIT].copy()"
   ]
  },
  {
   "cell_type": "code",
   "execution_count": 48,
   "id": "8e1398a8",
   "metadata": {},
   "outputs": [],
   "source": [
    "from torch.utils.data import DataLoader, TensorDataset\n",
    "\n",
    "X_train = torch.FloatTensor(X_train.values).to(device)\n",
    "X_test = torch.FloatTensor(X_test.values).to(device)\n",
    "y_train = torch.FloatTensor(y_train.values).to(device)\n",
    "y_test= torch.FloatTensor(y_test.values).to(device)"
   ]
  },
  {
   "cell_type": "code",
   "execution_count": 51,
   "id": "a79b71fc",
   "metadata": {},
   "outputs": [
    {
     "name": "stderr",
     "output_type": "stream",
     "text": [
      "/home/sebas/miniconda3/envs/phd/lib/python3.10/site-packages/sklearn/utils/validation.py:1111: DataConversionWarning: A column-vector y was passed when a 1d array was expected. Please change the shape of y to (n_samples, ), for example using ravel().\n",
      "  y = column_or_1d(y, warn=True)\n"
     ]
    },
    {
     "data": {
      "text/plain": [
       "0.47617399633265695"
      ]
     },
     "execution_count": 51,
     "metadata": {},
     "output_type": "execute_result"
    }
   ],
   "source": [
    "import lightgbm as lgb\n",
    "\n",
    "lgbmodel = lgb.LGBMRegressor(n_estimators=1600,\n",
    "                                    random_state=2020,\n",
    "                                  max_depth=6)\n",
    "\n",
    "from sklearn.metrics import mean_squared_error\n",
    "lgbmodel.fit(X_train.cpu(),y_train.cpu())\n",
    "predictions = lgbmodel.predict(X_test.cpu())\n",
    "np.sqrt(mean_squared_error(predictions,y_test.cpu()))"
   ]
  },
  {
   "cell_type": "code",
   "execution_count": 99,
   "id": "e56e4dc0",
   "metadata": {},
   "outputs": [],
   "source": [
    "# https://github.com/harryliew/COCOB-optimizer/blob/master/cocob_bp.py\n",
    "\n",
    "import torch.optim as optim\n",
    "import torch\n",
    "\n",
    "###########################################################################\n",
    "# Training Deep Networks without Learning Rates Through Coin Betting\n",
    "# Paper: https://arxiv.org/abs/1705.07795\n",
    "#\n",
    "# NOTE: This optimizer is hardcoded to run on GPU, needs to be parametrized\n",
    "###########################################################################\n",
    "\n",
    "class COCOBBackprop(optim.Optimizer):\n",
    "    \n",
    "    def __init__(self, params, alpha=100, epsilon=1e-8):\n",
    "        \n",
    "        self._alpha = alpha\n",
    "        self.epsilon = epsilon\n",
    "        defaults = dict(alpha=alpha, epsilon=epsilon)\n",
    "        super(COCOBBackprop, self).__init__(params, defaults)\n",
    "        \n",
    "    def step(self, closure=None):\n",
    "        \n",
    "        loss = None\n",
    "        \n",
    "        if closure is not None:\n",
    "            loss = closure()\n",
    "            \n",
    "        for group in self.param_groups:\n",
    "            for p in group['params']:\n",
    "                if p.grad is None:\n",
    "                    continue\n",
    "        \n",
    "                grad = p.grad.data\n",
    "                state = self.state[p]\n",
    "                \n",
    "                if len(state) == 0:\n",
    "                    state['gradients_sum'] = torch.zeros_like(p.data).cuda().float()\n",
    "                    state['grad_norm_sum'] = torch.zeros_like(p.data).cuda().float()\n",
    "                    state['L'] = self.epsilon * torch.ones_like(p.data).cuda().float()\n",
    "                    state['tilde_w'] = torch.zeros_like(p.data).cuda().float()\n",
    "                    state['reward'] = torch.zeros_like(p.data).cuda().float()\n",
    "                    \n",
    "                gradients_sum = state['gradients_sum']\n",
    "                grad_norm_sum = state['grad_norm_sum']\n",
    "                tilde_w = state['tilde_w']\n",
    "                L = state['L']\n",
    "                reward = state['reward']\n",
    "                \n",
    "                zero = torch.cuda.FloatTensor([0.])\n",
    "                \n",
    "                L_update = torch.max(L, torch.abs(grad))\n",
    "                gradients_sum_update = gradients_sum + grad\n",
    "                grad_norm_sum_update = grad_norm_sum + torch.abs(grad)\n",
    "                reward_update = torch.max(reward - grad * tilde_w, zero)\n",
    "                new_w = -gradients_sum_update/(L_update * (torch.max(grad_norm_sum_update + L_update, self._alpha * L_update)))*(reward_update + L_update)\n",
    "                p.data = p.data - tilde_w + new_w\n",
    "                tilde_w_update = new_w\n",
    "                \n",
    "                state['gradients_sum'] = gradients_sum_update\n",
    "                state['grad_norm_sum'] = grad_norm_sum_update\n",
    "                state['L'] = L_update\n",
    "                state['tilde_w'] = tilde_w_update\n",
    "                state['reward'] = reward_update\n",
    "\n",
    "        return loss\n"
   ]
  },
  {
   "cell_type": "code",
   "execution_count": 109,
   "id": "bff6bcfa",
   "metadata": {},
   "outputs": [
    {
     "name": "stdout",
     "output_type": "stream",
     "text": [
      "Epoch: 0 Loss: 98.58000946044922 Val Loss: 0.5143629312515259\n",
      "Epoch: 1 Loss: 48.311012268066406 Val Loss: 0.5247993469238281\n",
      "Epoch: 2 Loss: 41.34895706176758 Val Loss: 0.5203425288200378\n",
      "Epoch: 3 Loss: 34.48879623413086 Val Loss: 0.5131049752235413\n",
      "Epoch: 4 Loss: 29.288230895996094 Val Loss: 0.5140563249588013\n",
      "Epoch: 5 Loss: 24.903411865234375 Val Loss: 0.5343739986419678\n"
     ]
    }
   ],
   "source": [
    "import torch \n",
    "import torch.nn as nn \n",
    "import torch.nn.functional as F \n",
    "import torch.optim as optim \n",
    "\n",
    "fulls = len(X_train.cpu()[0])\n",
    "mids = int(len(X_train.cpu()[0])/2)\n",
    "\n",
    "class Net(nn.Module):\n",
    "  def __init__(self):\n",
    "    super(Net,self).__init__() \n",
    "    self.whole = nn.Sequential(\n",
    "        nn.Linear(fulls,2*fulls),\n",
    "        nn.ReLU(),\n",
    "        nn.LayerNorm(2*fulls),\n",
    "        nn.Linear(2*fulls,mids),\n",
    "        nn.ReLU(),\n",
    "        nn.LayerNorm(mids),\n",
    "        nn.Linear(mids,1)\n",
    "        )\n",
    "\n",
    "  def forward(self,x):\n",
    "    x = self.whole(x)\n",
    "    return x\n",
    "\n",
    "net = Net() \n",
    "net.to(device)\n",
    "criterion = nn.MSELoss(reduction='sum')\n",
    "optimizer = optim.Adam(net.parameters(),lr=0.001,weight_decay=0.00001)\n",
    "#optimizer = COCOBBackprop(net.parameters())\n",
    "\n",
    "loss_arr = []\n",
    "val_loss_arr = []\n",
    "epochs = 6\n",
    "\n",
    "train = TensorDataset(X_train, y_train)\n",
    "train_loader = DataLoader(train, batch_size=256, shuffle=True)\n",
    "\n",
    "for j in range(epochs):\n",
    "  m_loss = []\n",
    "  for i,batch in enumerate(train_loader):\n",
    "    train_features, train_labels = batch\n",
    "    y_hat = net.forward(train_features).to(device)\n",
    "    loss = criterion(y_hat, train_labels)\n",
    "    m_loss.append(loss.detach().cpu().numpy())\n",
    " \n",
    "    optimizer.zero_grad()\n",
    "    loss.backward()\n",
    "    optimizer.step()\n",
    "\n",
    "  predictions = net(X_test).cpu().reshape(-1).detach().numpy()\n",
    "  loss_arr.append(np.mean(m_loss))\n",
    "  val_loss_arr.append(np.sqrt(mean_squared_error(predictions,y_test.cpu())))\n",
    "  print(f'Epoch: {j} Loss: {np.mean(m_loss)} Val Loss: {np.sqrt(mean_squared_error(predictions,y_test.cpu()))}')"
   ]
  },
  {
   "cell_type": "code",
   "execution_count": 111,
   "id": "e767d8a3",
   "metadata": {},
   "outputs": [
    {
     "data": {
      "text/plain": [
       "0.534374"
      ]
     },
     "execution_count": 111,
     "metadata": {},
     "output_type": "execute_result"
    }
   ],
   "source": [
    "predictions = net(X_test).cpu().reshape(-1).detach().numpy()\n",
    "np.sqrt(mean_squared_error(predictions,y_test.cpu()))"
   ]
  },
  {
   "cell_type": "code",
   "execution_count": 137,
   "id": "8fe28f35",
   "metadata": {},
   "outputs": [],
   "source": [
    "import torch \n",
    "import torch.nn as nn \n",
    "import torch.nn.functional as F \n",
    "import torch.optim as optim \n",
    "\n",
    "n_channels = 10\n",
    "k_size = 3\n",
    "n_dil = 2\n",
    "\n",
    "class Net(nn.Module):\n",
    "  def __init__(self):\n",
    "    super(Net,self).__init__() \n",
    "    self.features = nn.Sequential(\n",
    "        nn.Conv1d(in_channels=1, out_channels=n_channels, kernel_size=k_size, padding=1),\n",
    "        nn.MaxPool1d(3),\n",
    "        nn.ReLU(),\n",
    "    )\n",
    "    \n",
    "    self.regressor = nn.Sequential(\n",
    "        nn.LayerNorm(n_channels*107),\n",
    "        nn.Linear(n_channels*107,200),\n",
    "        nn.ReLU(),\n",
    "        nn.LayerNorm(200),\n",
    "        nn.Linear(200,1)\n",
    "    )\n",
    "\n",
    "  def forward(self,x):\n",
    "    x = self.features(x)\n",
    "    #print(x.shape)\n",
    "    x = x.view(-1,n_channels*x.shape[2])\n",
    "    return self.regressor(x)"
   ]
  },
  {
   "cell_type": "code",
   "execution_count": 177,
   "id": "6412bf49",
   "metadata": {},
   "outputs": [],
   "source": [
    "import torch \n",
    "import torch.nn as nn \n",
    "import torch.nn.functional as F \n",
    "import torch.optim as optim \n",
    "\n",
    "n_channels = 10\n",
    "k_size = 3\n",
    "n_dil = 2\n",
    "\n",
    "class Net(nn.Module):\n",
    "  def __init__(self):\n",
    "    super(Net,self).__init__() \n",
    "    self.features = nn.Sequential(\n",
    "        nn.Conv1d(in_channels=1, out_channels=n_channels, kernel_size=k_size, padding=1),\n",
    "        nn.MaxPool1d(2),\n",
    "        nn.ReLU(),\n",
    "        nn.Conv1d(in_channels=n_channels, out_channels=n_channels, kernel_size=k_size, padding=1),\n",
    "        nn.MaxPool1d(2),\n",
    "        nn.ReLU(),\n",
    "    )\n",
    "    \n",
    "    self.regressor = nn.Sequential(\n",
    "        nn.LayerNorm(n_channels*80),\n",
    "        nn.Linear(n_channels*80,200),\n",
    "        nn.ReLU(),\n",
    "        nn.LayerNorm(200),\n",
    "        nn.Linear(200,1)\n",
    "    )\n",
    "\n",
    "  def forward(self,x):\n",
    "    x = self.features(x)\n",
    "    #print(x.shape)\n",
    "    x = x.view(-1,n_channels*x.shape[2])\n",
    "    return self.regressor(x)"
   ]
  },
  {
   "cell_type": "code",
   "execution_count": 178,
   "id": "af0056bc",
   "metadata": {},
   "outputs": [],
   "source": [
    "from torch.utils.data import DataLoader, TensorDataset\n",
    "\n",
    "X_train_gf = X_train.reshape(len(X_train),1,len(X_train[0]))\n",
    "train = TensorDataset(X_train_gf, y_train)\n",
    "train_loader = DataLoader(train, batch_size=128, shuffle=True)"
   ]
  },
  {
   "cell_type": "code",
   "execution_count": 184,
   "id": "a044c7a6",
   "metadata": {},
   "outputs": [
    {
     "data": {
      "text/plain": [
       "[<matplotlib.lines.Line2D at 0x7ff5385e76d0>]"
      ]
     },
     "execution_count": 184,
     "metadata": {},
     "output_type": "execute_result"
    },
    {
     "data": {
      "image/png": "[encoded data removed]",
      "text/plain": [
       "<Figure size 432x288 with 1 Axes>"
      ]
     },
     "metadata": {
      "needs_background": "light"
     },
     "output_type": "display_data"
    }
   ],
   "source": [
    "plt.plot(X_train_gf.cpu()[0][0])"
   ]
  },
  {
   "cell_type": "code",
   "execution_count": 179,
   "id": "51b68055",
   "metadata": {},
   "outputs": [
    {
     "name": "stdout",
     "output_type": "stream",
     "text": [
      "Epoch: 0 Loss: 42.8998908996582 Val Loss: 0.531817615032196\n",
      "Epoch: 1 Loss: 26.897199630737305 Val Loss: 0.4874810576438904\n",
      "Epoch: 2 Loss: 24.74496841430664 Val Loss: 0.47305676341056824\n",
      "Epoch: 3 Loss: 22.74944496154785 Val Loss: 0.47848406434059143\n",
      "Epoch: 4 Loss: 21.162534713745117 Val Loss: 0.5035784244537354\n",
      "Epoch: 5 Loss: 19.994537353515625 Val Loss: 0.4994543492794037\n"
     ]
    }
   ],
   "source": [
    "net = Net() \n",
    "net.to(device)\n",
    "criterion = nn.MSELoss(reduction='sum')\n",
    "optimizer = optim.Adam(net.parameters(),lr=0.001,weight_decay=0.00001)\n",
    "optimizer = COCOBBackprop(net.parameters())\n",
    "\n",
    "loss_arr = []\n",
    "val_loss_arr = []\n",
    "epochs = 6\n",
    "\n",
    "for j in range(epochs):\n",
    "    m_loss = []\n",
    "    for i,batch in enumerate(train_loader):\n",
    "      train_features, train_labels = batch\n",
    "      y_hat = net.forward(train_features)\n",
    "      loss = criterion(y_hat, train_labels)\n",
    "      m_loss.append(loss.cpu().detach().numpy())\n",
    "\n",
    "      optimizer.zero_grad()\n",
    "      loss.backward()\n",
    "      optimizer.step()\n",
    "    loss_arr.append(np.mean(m_loss))\n",
    "\n",
    "    X_test_gf = X_test.reshape(len(X_test),1,len(X_test[0]))\n",
    "    predictions = net(X_test_gf).cpu().reshape(-1).detach().numpy()\n",
    "    val_loss_arr.append(np.sqrt(mean_squared_error(predictions,y_test.cpu())))\n",
    "\n",
    "    print(f'Epoch: {j} Loss: {np.mean(m_loss)} Val Loss: {np.sqrt(mean_squared_error(predictions,y_test.cpu()))}')\n"
   ]
  },
  {
   "cell_type": "code",
   "execution_count": 180,
   "id": "8d81ff4d",
   "metadata": {},
   "outputs": [
    {
     "data": {
      "text/plain": [
       "0.49945435"
      ]
     },
     "execution_count": 180,
     "metadata": {},
     "output_type": "execute_result"
    }
   ],
   "source": [
    "X_test_gf = X_test.reshape(len(X_test),1,len(X_test[0]))\n",
    "predictions = net(X_test_gf).cpu().reshape(-1).detach().numpy()\n",
    "np.sqrt(mean_squared_error(predictions,y_test.cpu()))"
   ]
  },
  {
   "cell_type": "code",
   "execution_count": null,
   "id": "2b296b29",
   "metadata": {},
   "outputs": [],
   "source": []
  }
 ],
 "metadata": {
  "kernelspec": {
   "display_name": "Python 3 (ipykernel)",
   "language": "python",
   "name": "python3"
  },
  "language_info": {
   "codemirror_mode": {
    "name": "ipython",
    "version": 3
   },
   "file_extension": ".py",
   "mimetype": "text/x-python",
   "name": "python",
   "nbconvert_exporter": "python",
   "pygments_lexer": "ipython3",
   "version": "3.10.4"
  }
 },
 "nbformat": 4,
 "nbformat_minor": 5
}
