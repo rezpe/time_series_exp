{
 "cells": [
  {
   "cell_type": "code",
   "execution_count": 5,
   "id": "e7110296",
   "metadata": {},
   "outputs": [],
   "source": [
    "# Run Save\n",
    "import mlflow"
   ]
  },
  {
   "cell_type": "code",
   "execution_count": 6,
   "id": "fddee344",
   "metadata": {},
   "outputs": [],
   "source": [
    "runs_df = mlflow.search_runs(\"0\")"
   ]
  },
  {
   "cell_type": "code",
   "execution_count": 9,
   "id": "c432ef0d",
   "metadata": {},
   "outputs": [],
   "source": [
    "runs_df.to_csv(\"../results/2022_07_20.csv\",index=None)"
   ]
  },
  {
   "cell_type": "code",
   "execution_count": null,
   "id": "22cfc2d9",
   "metadata": {},
   "outputs": [],
   "source": []
  }
 ],
 "metadata": {
  "kernelspec": {
   "display_name": "Python 3 (ipykernel)",
   "language": "python",
   "name": "python3"
  },
  "language_info": {
   "codemirror_mode": {
    "name": "ipython",
    "version": 3
   },
   "file_extension": ".py",
   "mimetype": "text/x-python",
   "name": "python",
   "nbconvert_exporter": "python",
   "pygments_lexer": "ipython3",
   "version": "3.10.4"
  }
 },
 "nbformat": 4,
 "nbformat_minor": 5
}
