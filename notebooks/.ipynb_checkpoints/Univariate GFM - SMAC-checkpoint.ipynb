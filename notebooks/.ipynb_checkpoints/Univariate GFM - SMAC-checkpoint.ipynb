{
 "cells": [
  {
   "cell_type": "code",
   "execution_count": 1,
   "id": "75bad838",
   "metadata": {},
   "outputs": [
    {
     "name": "stdout",
     "output_type": "stream",
     "text": [
      "%pylab is deprecated, use %matplotlib inline and import the required libraries.\n",
      "Populating the interactive namespace from numpy and matplotlib\n"
     ]
    }
   ],
   "source": [
    "%pylab inline\n",
    "import pandas as pd"
   ]
  },
  {
   "cell_type": "code",
   "execution_count": 2,
   "id": "5963369f",
   "metadata": {},
   "outputs": [],
   "source": [
    "import os\n",
    "\n",
    "folder=\"../../../../../sebas/data/air_qual_aemet/\"\n",
    "stations = os.listdir(folder)\n",
    "stations = pd.Series(stations).apply(lambda e: e.split(\".csv\")[0]).values"
   ]
  },
  {
   "cell_type": "code",
   "execution_count": 3,
   "id": "db9a9524",
   "metadata": {},
   "outputs": [],
   "source": [
    "fields=['AEMET.BLH', 'AEMET.SP', 'AEMET.T2M', 'AEMET.TP', 'AEMET.U10',\n",
    "       'AEMET.V10', 'AEMET.WS', 'AEMET.WD', 'MACC.NO2', 'MACC.O3', 'MACC.PM10',\n",
    "       'MACC.PM25', 'SPA.NO2', 'SPA.O3', 'SPA.PM10', 'SPA.PM25']\n",
    "\n",
    "fields=['MACC.NO2', 'MACC.O3', 'MACC.PM10',\n",
    "       'MACC.PM25', 'SPA.NO2', 'SPA.O3', 'SPA.PM10', 'SPA.PM25']\n",
    "\n",
    "#fields=['SPA.NO2', 'SPA.O3']\n",
    "\n",
    "fields=['SPA.NO2']"
   ]
  },
  {
   "cell_type": "code",
   "execution_count": 4,
   "id": "7523dc04",
   "metadata": {},
   "outputs": [],
   "source": [
    "from tqdm.notebook import tqdm"
   ]
  },
  {
   "cell_type": "code",
   "execution_count": 5,
   "id": "b00e1173",
   "metadata": {},
   "outputs": [],
   "source": [
    "from statsmodels.tsa.seasonal import seasonal_decompose"
   ]
  },
  {
   "cell_type": "code",
   "execution_count": 6,
   "id": "b3a88365",
   "metadata": {},
   "outputs": [],
   "source": [
    "seq_length=168"
   ]
  },
  {
   "cell_type": "code",
   "execution_count": 7,
   "id": "30a7c4fd",
   "metadata": {},
   "outputs": [],
   "source": [
    "stations=[\"28079004\"]"
   ]
  },
  {
   "cell_type": "code",
   "execution_count": 8,
   "id": "dc749ce7",
   "metadata": {
    "scrolled": true
   },
   "outputs": [
    {
     "data": {
      "application/vnd.jupyter.widget-view+json": {
       "model_id": "cbccc4fbee614ed4bbbb592bd21163de",
       "version_major": 2,
       "version_minor": 0
      },
      "text/plain": [
       "  0%|          | 0/1 [00:00<?, ?it/s]"
      ]
     },
     "metadata": {},
     "output_type": "display_data"
    },
    {
     "name": "stdout",
     "output_type": "stream",
     "text": [
      "28079004: SPA.NO2\n"
     ]
    },
    {
     "data": {
      "image/png": "[encoded data removed]",
      "text/plain": [
       "<Figure size 432x288 with 1 Axes>"
      ]
     },
     "metadata": {
      "needs_background": "light"
     },
     "output_type": "display_data"
    }
   ],
   "source": [
    "X_train=[]\n",
    "y_train=[]\n",
    "for station in tqdm(stations):\n",
    "    # Reading input file\n",
    "    df = pd.read_csv(f\"{folder}/{station}.csv\",sep=\";\")\n",
    "    # Limiting Date\n",
    "    df = df[df[\"DATE\"]<\"2020-01-01\"]\n",
    "    for field in fields:\n",
    "        print(f\"{station}: {field}\")\n",
    "        \n",
    "        tdf = df[[\"DATE\",field]].copy()\n",
    "\n",
    "        #Stop is there are null values\n",
    "        if (tdf[field].isnull().sum()>0):\n",
    "          break\n",
    "\n",
    "        # Log transform\n",
    "        tdf[field]=np.log1p(tdf[field])\n",
    "\n",
    "        plt.plot(tdf[field])\n",
    "        plt.show()\n",
    "        #STL Decomp\n",
    "        #stl = seasonal_decompose(tdf[field], model=\"additive\",period=24)\n",
    "\n",
    "        #tdf[field]=tdf[field]-stl.seasonal\n",
    "        #tdf[\"trend\"]=stl.trend\n",
    "        tdf[\"trend\"]=0\n",
    "\n",
    "\n",
    "        horizon=13\n",
    "\n",
    "        tdf[\"trend_norm\"]=tdf[\"trend\"].shift(horizon)\n",
    "\n",
    "        # We remove the trend and keep past values\n",
    "        tdf[field]=tdf[field]-tdf[\"trend_norm\"]\n",
    "        for h in np.arange(0,horizon+seq_length+1):\n",
    "            if h>horizon:\n",
    "                temp = pd.DataFrame()\n",
    "                temp[f\"value - {h}\"]=(tdf[field].shift(h)-tdf[\"trend_norm\"]).copy()\n",
    "                tdf=pd.concat([tdf,temp],axis=1)\n",
    "\n",
    "        tdf=tdf.dropna()\n",
    "\n",
    "        cols = tdf.columns[tdf.columns.str.contains(f\"value -\")]\n",
    "        X = tdf[cols].copy()\n",
    "        y = tdf[[field]].copy()\n",
    "        y.columns=[\"values\"]\n",
    "\n",
    "        TRAIN_SPLIT = tdf[tdf[\"DATE\"]>\"2018\"].index.values[0]\n",
    "\n",
    "        X_train.append(X[X.index<=TRAIN_SPLIT].copy())\n",
    "        y_train.append(y[X.index<=TRAIN_SPLIT].copy())\n",
    "        \n",
    "X_train=pd.concat(X_train)\n",
    "y_train=pd.concat(y_train)"
   ]
  },
  {
   "cell_type": "code",
   "execution_count": 10,
   "id": "c0ea3dd8",
   "metadata": {},
   "outputs": [
    {
     "data": {
      "text/plain": [
       "(56796, 168)"
      ]
     },
     "execution_count": 10,
     "metadata": {},
     "output_type": "execute_result"
    }
   ],
   "source": [
    "X.shape"
   ]
  },
  {
   "cell_type": "code",
   "execution_count": 11,
   "id": "346fe569",
   "metadata": {},
   "outputs": [
    {
     "data": {
      "text/plain": [
       "(39277, 168)"
      ]
     },
     "execution_count": 11,
     "metadata": {},
     "output_type": "execute_result"
    }
   ],
   "source": [
    "X_train.shape"
   ]
  },
  {
   "cell_type": "code",
   "execution_count": 12,
   "id": "64909e64",
   "metadata": {},
   "outputs": [],
   "source": [
    "station=\"28079004\"\n",
    "df = pd.read_csv(f\"/home/sebas/data/air_qual_aemet/{station}.csv\",sep=\";\")\n",
    "\n",
    "# Limiting Date\n",
    "df = df[df[\"DATE\"]<\"2020-01-01\"]\n",
    "\n",
    "field=\"SPA.NO2\"\n",
    "\n",
    "tdf = df[[\"DATE\",field]].copy()\n",
    "tdf[field]=np.log1p(tdf[field])\n",
    "\n",
    "#from statsmodels.tsa.seasonal import seasonal_decompose\n",
    "#stl = seasonal_decompose(tdf[field], model=\"additive\",period=24)\n",
    "#tdf[field]=tdf[field]-stl.seasonal\n",
    "#tdf[\"trend\"]=stl.trend\n",
    "tdf[\"seasonal\"]=0\n",
    "tdf[\"trend\"]=0\n",
    "\n",
    "horizon=13\n",
    "\n",
    "tdf[\"trend_norm\"]=tdf[\"trend\"].shift(horizon)\n",
    "\n",
    "# We remove the trend and keep past values\n",
    "for h in np.arange(0,horizon+seq_length+1):\n",
    "    if h>horizon:\n",
    "            temp = pd.DataFrame()\n",
    "            temp[f\"{field} - {h}\"]=(tdf[field].shift(h)-tdf[\"trend_norm\"]).copy()\n",
    "            tdf=pd.concat([tdf,temp],axis=1)\n",
    "tdf=tdf.dropna()\n",
    "\n",
    "cols = tdf.columns[tdf.columns.str.contains(f\"{field} -\")]\n",
    "X = tdf[cols].copy()\n",
    "y = tdf[[field]].copy()\n",
    "v_recover = tdf[[\"trend_norm\",\"seasonal\"]]\n",
    "\n",
    "TRAIN_SPLIT = tdf[tdf[\"DATE\"]>\"2018\"].index.values[0]\n",
    "\n",
    "X_test=X[X.index>TRAIN_SPLIT].copy()\n",
    "y_test = y[X.index>TRAIN_SPLIT].copy()\n",
    "v_recover_test = v_recover[X.index>TRAIN_SPLIT].copy()"
   ]
  },
  {
   "cell_type": "code",
   "execution_count": 14,
   "id": "0b8b079a",
   "metadata": {},
   "outputs": [],
   "source": [
    "import torch \n",
    "import torch.nn as nn \n",
    "import torch.nn.functional as F \n",
    "import torch.optim as optim \n",
    "from torch.utils.data import DataLoader, TensorDataset\n",
    "\n",
    "X_train = torch.FloatTensor(X_train.values)\n",
    "X_test = torch.FloatTensor(X_test.values)\n",
    "y_train = torch.FloatTensor(y_train.values)\n",
    "y_test= torch.FloatTensor(y_test.values)"
   ]
  },
  {
   "cell_type": "code",
   "execution_count": 16,
   "id": "97c8d9bf",
   "metadata": {},
   "outputs": [],
   "source": [
    "# https://github.com/harryliew/COCOB-optimizer/blob/master/cocob_bp.py\n",
    "\n",
    "import torch.optim as optim\n",
    "import torch\n",
    "\n",
    "###########################################################################\n",
    "# Training Deep Networks without Learning Rates Through Coin Betting\n",
    "# Paper: https://arxiv.org/abs/1705.07795\n",
    "#\n",
    "# NOTE: This optimizer is hardcoded to run on GPU, needs to be parametrized\n",
    "###########################################################################\n",
    "\n",
    "class COCOBBackprop(optim.Optimizer):\n",
    "    \n",
    "    def __init__(self, params, alpha=100, epsilon=1e-8):\n",
    "        \n",
    "        self._alpha = alpha\n",
    "        self.epsilon = epsilon\n",
    "        defaults = dict(alpha=alpha, epsilon=epsilon)\n",
    "        super(COCOBBackprop, self).__init__(params, defaults)\n",
    "        \n",
    "    def step(self, closure=None):\n",
    "        \n",
    "        loss = None\n",
    "        \n",
    "        if closure is not None:\n",
    "            loss = closure()\n",
    "            \n",
    "        for group in self.param_groups:\n",
    "            for p in group['params']:\n",
    "                if p.grad is None:\n",
    "                    continue\n",
    "        \n",
    "                grad = p.grad.data\n",
    "                state = self.state[p]\n",
    "                \n",
    "                if len(state) == 0:\n",
    "                    state['gradients_sum'] = torch.zeros_like(p.data).cuda().float()\n",
    "                    state['grad_norm_sum'] = torch.zeros_like(p.data).cuda().float()\n",
    "                    state['L'] = self.epsilon * torch.ones_like(p.data).cuda().float()\n",
    "                    state['tilde_w'] = torch.zeros_like(p.data).cuda().float()\n",
    "                    state['reward'] = torch.zeros_like(p.data).cuda().float()\n",
    "                    \n",
    "                gradients_sum = state['gradients_sum']\n",
    "                grad_norm_sum = state['grad_norm_sum']\n",
    "                tilde_w = state['tilde_w']\n",
    "                L = state['L']\n",
    "                reward = state['reward']\n",
    "                \n",
    "                zero = torch.cuda.FloatTensor([0.])\n",
    "                \n",
    "                L_update = torch.max(L, torch.abs(grad))\n",
    "                gradients_sum_update = gradients_sum + grad\n",
    "                grad_norm_sum_update = grad_norm_sum + torch.abs(grad)\n",
    "                reward_update = torch.max(reward - grad * tilde_w, zero)\n",
    "                new_w = -gradients_sum_update/(L_update * (torch.max(grad_norm_sum_update + L_update, self._alpha * L_update)))*(reward_update + L_update)\n",
    "                p.data = p.data - tilde_w + new_w\n",
    "                tilde_w_update = new_w\n",
    "                \n",
    "                state['gradients_sum'] = gradients_sum_update\n",
    "                state['grad_norm_sum'] = grad_norm_sum_update\n",
    "                state['L'] = L_update\n",
    "                state['tilde_w'] = tilde_w_update\n",
    "                state['reward'] = reward_update\n",
    "\n",
    "        return loss\n"
   ]
  },
  {
   "cell_type": "code",
   "execution_count": 52,
   "id": "47de00d0",
   "metadata": {},
   "outputs": [],
   "source": [
    "import pytorch_lightning as pl\n",
    "\n",
    "class TCN(pl.LightningModule):\n",
    "    def __init__(self):\n",
    "        super().__init__()\n",
    "        \n",
    "        self.n_channels = 128\n",
    "        self.k_size = 3\n",
    "\n",
    "        self.features = nn.Sequential(\n",
    "            nn.Conv1d(in_channels=1, out_channels=self.n_channels, kernel_size=self.k_size, padding=1),\n",
    "            nn.MaxPool1d(2),\n",
    "            nn.ReLU(),\n",
    "        )\n",
    "\n",
    "        self.regressor = nn.Sequential(\n",
    "            nn.LayerNorm(self.n_channels*int(seq_length/2)),\n",
    "            nn.Linear(self.n_channels*int(seq_length/2),200),\n",
    "            nn.ReLU(),\n",
    "            nn.LayerNorm(200),\n",
    "            nn.Linear(200,1)\n",
    "        )\n",
    "    \n",
    "    def forward(self,x):\n",
    "        x = self.features(x)\n",
    "        x = x.view(-1,self.n_channels*x.shape[2])\n",
    "        return self.regressor(x)\n",
    "    \n",
    "    def training_step(self, batch, batch_idx):\n",
    "        x, y = batch\n",
    "        y_hat  = self(x)\n",
    "        criterion = nn.MSELoss(reduction='sum')\n",
    "        loss = criterion(y_hat, y)\n",
    "        self.log(\"train_loss\", loss)\n",
    "        return loss\n",
    "\n",
    "    def configure_optimizers(self):\n",
    "        optimizer = COCOBBackprop(self.parameters())\n",
    "        return optimizer\n"
   ]
  },
  {
   "cell_type": "code",
   "execution_count": 53,
   "id": "afc485c6",
   "metadata": {},
   "outputs": [],
   "source": [
    "# setup data\n",
    "X_train_gf = X_train.reshape(len(X_train),1,len(X_train[0]))\n",
    "train = TensorDataset(X_train_gf, y_train)\n",
    "train_loader = DataLoader(train, batch_size=32, shuffle=True,num_workers=8)"
   ]
  },
  {
   "cell_type": "code",
   "execution_count": 54,
   "id": "aeef8bf3",
   "metadata": {},
   "outputs": [
    {
     "name": "stderr",
     "output_type": "stream",
     "text": [
      "GPU available: True, used: True\n",
      "TPU available: False, using: 0 TPU cores\n",
      "IPU available: False, using: 0 IPUs\n",
      "HPU available: False, using: 0 HPUs\n",
      "LOCAL_RANK: 0 - CUDA_VISIBLE_DEVICES: [0]\n",
      "\n",
      "  | Name      | Type       | Params\n",
      "-----------------------------------------\n",
      "0 | features  | Sequential | 512   \n",
      "1 | regressor | Sequential | 2.2 M \n",
      "-----------------------------------------\n",
      "2.2 M     Trainable params\n",
      "0         Non-trainable params\n",
      "2.2 M     Total params\n",
      "8.693     Total estimated model params size (MB)\n"
     ]
    },
    {
     "data": {
      "application/vnd.jupyter.widget-view+json": {
       "model_id": "34a28c051edc403699dff1fd1840cce3",
       "version_major": 2,
       "version_minor": 0
      },
      "text/plain": [
       "Training: 0it [00:00, ?it/s]"
      ]
     },
     "metadata": {},
     "output_type": "display_data"
    }
   ],
   "source": [
    "trainer = pl.Trainer(max_epochs=10,accelerator=\"gpu\")\n",
    "tcn=TCN()\n",
    "trainer.fit(model=tcn, train_dataloaders=train_loader)"
   ]
  },
  {
   "cell_type": "code",
   "execution_count": 55,
   "id": "7b494993",
   "metadata": {},
   "outputs": [
    {
     "data": {
      "text/plain": [
       "'/home/sebas/Documents/projects/exp_article3/notebooks/lightning_logs/version_24/checkpoints/epoch=9-step=12280.ckpt'"
      ]
     },
     "execution_count": 55,
     "metadata": {},
     "output_type": "execute_result"
    }
   ],
   "source": [
    "trainer.checkpoint_callback.best_model_path"
   ]
  },
  {
   "cell_type": "code",
   "execution_count": 56,
   "id": "7b3ae2c7",
   "metadata": {},
   "outputs": [],
   "source": [
    "X_test_gf = X_test.reshape(len(X_test),1,len(X_test[0]))"
   ]
  },
  {
   "cell_type": "code",
   "execution_count": 57,
   "id": "c2dff79f",
   "metadata": {},
   "outputs": [],
   "source": [
    "model = tcn.load_from_checkpoint(trainer.checkpoint_callback.best_model_path)\n",
    "model.freeze()\n",
    "model = model.eval()"
   ]
  },
  {
   "cell_type": "code",
   "execution_count": 58,
   "id": "e4b6ccbb",
   "metadata": {},
   "outputs": [],
   "source": [
    "from sklearn.metrics import mean_squared_error"
   ]
  },
  {
   "cell_type": "code",
   "execution_count": 59,
   "id": "1bd51bc2",
   "metadata": {},
   "outputs": [
    {
     "name": "stdout",
     "output_type": "stream",
     "text": [
      " Val Loss: 0.5214692950248718\n"
     ]
    },
    {
     "data": {
      "image/png": "[encoded data removed]",
      "text/plain": [
       "<Figure size 432x288 with 1 Axes>"
      ]
     },
     "metadata": {
      "needs_background": "light"
     },
     "output_type": "display_data"
    }
   ],
   "source": [
    "# automatically auto-loads the best weights from the previous run\n",
    "predictions = model(X_test_gf).detach().numpy()\n",
    "print(f' Val Loss: {np.sqrt(mean_squared_error(predictions,y_test.cpu()))}')\n",
    "    \n",
    "plt.plot(y_test.cpu()[-100:])\n",
    "plt.plot(predictions[-100:],c=\"red\")\n",
    "plt.show()"
   ]
  },
  {
   "cell_type": "code",
   "execution_count": null,
   "id": "ad1d192d",
   "metadata": {},
   "outputs": [],
   "source": []
  },
  {
   "cell_type": "markdown",
   "id": "616bc87b",
   "metadata": {},
   "source": [
    "### Parameters:\n",
    "- Number of channels\n",
    "- Kernel Size\n",
    "- Maxpool size\n",
    "- Batch Size\n",
    "- Epochs\n",
    "- Regressor:\n",
    "    - Size\n",
    "    - Number of hidden layers"
   ]
  },
  {
   "cell_type": "code",
   "execution_count": 19,
   "id": "225969be",
   "metadata": {
    "scrolled": true
   },
   "outputs": [],
   "source": [
    "from ConfigSpace import ConfigurationSpace\n",
    "from ConfigSpace.hyperparameters import UniformIntegerHyperparameter\n",
    "from smac.facade.smac_bb_facade import SMAC4BB\n",
    "from smac.scenario.scenario import Scenario"
   ]
  },
  {
   "cell_type": "code",
   "execution_count": null,
   "id": "ad48903a",
   "metadata": {},
   "outputs": [],
   "source": [
    "net = Net() \n",
    "net.to(device)\n",
    "criterion = nn.MSELoss(reduction='sum')\n",
    "optimizer = COCOBBackprop(net.parameters())\n",
    "#optimizer = optim.Adam(net.parameters(),lr=0.00001,weight_decay=0.000001)\n",
    "\n",
    "loss_arr = []\n",
    "val_loss_arr = []\n",
    "epochs = 1\n",
    "\n",
    "X_train_gf = X_train.reshape(len(X_train),1,len(X_train[0]))\n",
    "train = TensorDataset(X_train_gf, y_train)\n",
    "train_loader = DataLoader(train, batch_size=512, shuffle=True)\n",
    "\n",
    "print(len(X_train)/512)\n",
    "\n",
    "for j in range(epochs):\n",
    "    m_loss = []\n",
    "    for i,batch in tqdm(enumerate(train_loader)):\n",
    "      train_features, train_labels = batch\n",
    "      y_hat = net.forward(train_features)\n",
    "      loss = criterion(y_hat, train_labels)\n",
    "      m_loss.append(loss.cpu().detach().numpy())\n",
    "\n",
    "      optimizer.zero_grad()\n",
    "      loss.backward()\n",
    "      optimizer.step()\n",
    "    loss_arr.append(np.mean(m_loss))\n",
    "\n",
    "    X_test_gf = X_test.reshape(len(X_test),1,len(X_test[0]))\n",
    "    predictions = net(X_test_gf).cpu().reshape(-1).detach().numpy()\n",
    "    val_loss_arr.append(np.sqrt(mean_squared_error(predictions,y_test.cpu())))\n",
    "    print(f'Epoch: {j} Loss: {np.mean(m_loss)} Val Loss: {np.sqrt(mean_squared_error(predictions,y_test.cpu()))}')\n",
    "    \n",
    "    plt.plot(y_test.cpu()[-100:])\n",
    "    plt.plot(predictions[-100:],c=\"red\")\n",
    "    plt.show()"
   ]
  },
  {
   "cell_type": "code",
   "execution_count": null,
   "id": "0c5da3dc",
   "metadata": {},
   "outputs": [],
   "source": [
    "\n",
    "\n",
    "X_train, y_train = np.random.randint(2, size=(20, 2)), np.random.randint(2, size=20)\n",
    "X_val, y_val = np.random.randint(2, size=(5, 2)), np.random.randint(2, size=5)\n",
    "\n",
    "\n",
    "def train_random_forest(config):\n",
    "    model = RandomForestClassifier(max_depth=config[\"depth\"])\n",
    "    model.fit(X_train, y_train)\n",
    "\n",
    "    # Define the evaluation metric as return\n",
    "    return 1 - model.score(X_val, y_val)\n",
    "\n",
    "\n",
    "# Define your hyperparameters\n",
    "configspace = ConfigurationSpace()\n",
    "configspace.add_hyperparameter(UniformIntegerHyperparameter(\"depth\", 2, 100))\n",
    "configspace.add_hyperparameter(UniformIntegerHyperparameter(\"n_estimators\", 2, 100))\n",
    "\n",
    "# Provide meta data for the optimization\n",
    "scenario = Scenario({\n",
    "    \"run_obj\": \"quality\",  # Optimize quality (alternatively runtime)\n",
    "    \"runcount-limit\": 10,  # Max number of function evaluations (the more the better)\n",
    "    \"cs\": configspace,\n",
    "})\n",
    "\n",
    "smac = SMAC4BB(scenario=scenario, tae_runner=train_random_forest)\n",
    "best_found_config = smac.optimize()"
   ]
  }
 ],
 "metadata": {
  "kernelspec": {
   "display_name": "Python 3 (ipykernel)",
   "language": "python",
   "name": "python3"
  },
  "language_info": {
   "codemirror_mode": {
    "name": "ipython",
    "version": 3
   },
   "file_extension": ".py",
   "mimetype": "text/x-python",
   "name": "python",
   "nbconvert_exporter": "python",
   "pygments_lexer": "ipython3",
   "version": "3.10.4"
  }
 },
 "nbformat": 4,
 "nbformat_minor": 5
}
