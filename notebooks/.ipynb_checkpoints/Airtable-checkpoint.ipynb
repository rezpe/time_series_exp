{
 "cells": [
  {
   "cell_type": "code",
   "execution_count": null,
   "id": "8d6b59db",
   "metadata": {},
   "outputs": [],
   "source": [
    "# https://airtable.com/appXOFgDU3lgoOYQI/tblZQ3UBMflriV9Oi/viwV3JDK4GMF9ifSQ?blocks=hide"
   ]
  },
  {
   "cell_type": "code",
   "execution_count": null,
   "id": "96e00d88",
   "metadata": {},
   "outputs": [],
   "source": [
    "!pip install requests airtable\n",
    "\n",
    "from airtable import airtable\n",
    "at = airtable.Airtable('appXOFgDU3lgoOYQI', 'keyHmVgTOf5cfystP')\n",
    "\n",
    "table_name=\"tblZQ3UBMflriV9Oi\"\n",
    "at.get(table_name)\n",
    "\n",
    "at.create(table_name, dict(name=\"Run1\",metric=\"[{g:'g'}]\",time=\"2018\",model=\"RNN\"))"
   ]
  }
 ],
 "metadata": {
  "kernelspec": {
   "display_name": "Python 3 (ipykernel)",
   "language": "python",
   "name": "python3"
  },
  "language_info": {
   "codemirror_mode": {
    "name": "ipython",
    "version": 3
   },
   "file_extension": ".py",
   "mimetype": "text/x-python",
   "name": "python",
   "nbconvert_exporter": "python",
   "pygments_lexer": "ipython3",
   "version": "3.10.4"
  }
 },
 "nbformat": 4,
 "nbformat_minor": 5
}
