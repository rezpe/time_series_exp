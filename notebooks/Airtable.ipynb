{
 "cells": [
  {
   "cell_type": "code",
   "execution_count": null,
   "id": "8d6b59db",
   "metadata": {},
   "outputs": [],
   "source": [
    "# https://airtable.com/appXOFgDU3lgoOYQI/tblZQ3UBMflriV9Oi/viwV3JDK4GMF9ifSQ?blocks=hide"
   ]
  },
  {
   "cell_type": "code",
   "execution_count": 2,
   "id": "96e00d88",
   "metadata": {},
   "outputs": [
    {
     "data": {
      "text/plain": [
       "OrderedDict([('id', 'recXpvYbvo1I3X4iZ'),\n",
       "             ('createdTime', '2022-08-26T19:27:42.000Z'),\n",
       "             ('fields',\n",
       "              OrderedDict([('name', 'Run1'),\n",
       "                           ('metric', \"[{g:'g'}]\"),\n",
       "                           ('time', '2018'),\n",
       "                           ('model', 'RNN')]))])"
      ]
     },
     "execution_count": 2,
     "metadata": {},
     "output_type": "execute_result"
    }
   ],
   "source": [
    "from airtable import airtable\n",
    "at = airtable.Airtable('appXOFgDU3lgoOYQI', open(\"airtable\").read())\n",
    "\n",
    "table_name=\"tblZQ3UBMflriV9Oi\"\n",
    "at.get(table_name)\n",
    "\n",
    "at.create(table_name, dict(name=\"Run1\",metric=\"[{g:'g'}]\",time=\"2018\",model=\"RNN\"))"
   ]
  },
  {
   "cell_type": "code",
   "execution_count": null,
   "id": "dcc8aa77",
   "metadata": {},
   "outputs": [],
   "source": []
  }
 ],
 "metadata": {
  "kernelspec": {
   "display_name": "Python 3 (ipykernel)",
   "language": "python",
   "name": "python3"
  },
  "language_info": {
   "codemirror_mode": {
    "name": "ipython",
    "version": 3
   },
   "file_extension": ".py",
   "mimetype": "text/x-python",
   "name": "python",
   "nbconvert_exporter": "python",
   "pygments_lexer": "ipython3",
   "version": "3.10.4"
  }
 },
 "nbformat": 4,
 "nbformat_minor": 5
}
